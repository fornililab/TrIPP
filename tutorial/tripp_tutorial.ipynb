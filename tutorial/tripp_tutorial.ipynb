{
 "cells": [
  {
   "attachments": {},
   "cell_type": "markdown",
   "metadata": {},
   "source": [
    "# TrIPP tutorial - Lysozyme\n",
    "\n",
    "In the following example we will use TrIPP to monitor and analyse the p*K*<sub>a</sub> of ionisable residues during Molecular Dynamics (MD) simulations of the hen egg-white lysozyme (HEWL; PDB ID: 1AKI). The input files to run this tutorial (provided in the *data* folder) are:\n",
    "\n",
    "* **1AKI_minstr.pdb**: energy minimised structure in PDB format (1960 atoms)\n",
    "* **1AKI_md1_300ns.xtc** and **1AKI_md2_300ns.xtc**: trajectory files of two 308.5-ns replicas in xtc format (frames are sampled every 100 ps, water molecules and counterions have been removed, the system is composed of a single-chain protein with no ligand)\n",
    "* **1AKI_md1_pc1.csv**: projection of 1AKI_md1_300ns.xtc onto its first principal component (PC1) - only required for Part 5\n",
    "\n",
    "The protonation state of ionisable residues during the MD simulations was determined using PROPKA 3 (version 3.4.0) on the initial structure (pH = 7.0).\n",
    "\n",
    "**Running time:** running all the parts of this tutorial on a Macbook Pro (M2 Pro) using 12 cores requires about 6 minutes."
   ]
  },
  {
   "cell_type": "markdown",
   "metadata": {},
   "source": [
    "**Important note on PROPKA** \n",
    "\n",
    "PROPKA has some requirements on the format of the input PDB file, in particular:\n",
    "\n",
    "1. PROPKA only recognizes specific residue names (for the standard 20 amino acids).\n",
    "2. The names of the two C-terminal oxygen atoms need to be O and OXT.\n",
    "3. The record type of non-protein atoms (e.g., a ligand) needs to be 'HETATM'.\n",
    "\n",
    "TrIPP has a hard-coded dictionary (tripp.\\_correction_dictionary_.py) that converts a list of standard residue names recognised by [MDAnalysis](https://userguide.mdanalysis.org/stable/standard_selections.html) to names compatible with PROPKA. A dictionary is also used to convert C-terminal oxygen atom names used in the GROMOS, AMBER or CHARMM force fields to the PROPKA format. \n",
    "\n",
    "After this conversion, TrIPP checks if residue names or C-terminal oxygen atom names that cannot be recognised by PROPKA are still present:\n",
    "\n",
    "1. For incompatible residue names, the calculation will be stopped unless their record type is 'HETATM' \n",
    "2. For incompatible C-terminal oxygen atoms names, the calculation will be stopped."
   ]
  },
  {
   "cell_type": "markdown",
   "metadata": {},
   "source": [
    "# 0. Libraries and user-defined variables "
   ]
  },
  {
   "cell_type": "markdown",
   "metadata": {},
   "source": [
    "Let's first import the required libraries:"
   ]
  },
  {
   "cell_type": "code",
   "execution_count": null,
   "metadata": {},
   "outputs": [],
   "source": [
    "from tripp import Trajectory\n",
    "from tripp.analysis import calculate_difference_to_model\n",
    "from tripp.analysis import PCProjectionScreening  \n",
    "from tripp._create_mda_universe_ import create_mda_universe\n",
    "import pandas as pd \n",
    "import matplotlib.pyplot as plt \n",
    "import seaborn as sns\n",
    "import numpy as np\n",
    "import re\n",
    "from itertools import combinations\n",
    "from tripp._model_pka_values_ import model_pka_values\n",
    "from tripp import Visualization  # PyMOL installation required, user needs to specify the path to the PyMOL executable (see Part 2)\n",
    "from tripp import Clustering "
   ]
  },
  {
   "cell_type": "markdown",
   "metadata": {},
   "source": [
    "To run this tutorial on your own trajectories, you will need to change the value of some user-defined variables. Please note that individual parts might have additional user-defined variables. \n",
    "\n",
    "**Chain ID and multi-chain systems:** it is recommended to have chain IDs assigned in your topology file. If the chain ID is undefined, TrIPP will automatically assign the value 'A' for all the atoms in the system. Some simple checks for possible inconsistencies due to the presence of multiple chains have been implemented (e.g. an error will be raised if duplicated residue IDs are found with no chain ID assigned) but they are not exhaustive.\n",
    "\n",
    "**Formats:** while in principle MDAnalysis supports different trajectory and topology formats, we have tested our tool only on xtc files generated with GROMACS. "
   ]
  },
  {
   "cell_type": "code",
   "execution_count": null,
   "metadata": {},
   "outputs": [],
   "source": [
    "# Start of user-defined variables -------------------------\n",
    "\n",
    "topology = '1AKI_minstr.pdb'  # name of the reference PDB file used to define the topology of the system\n",
    "input_dir = 'data'            # name of the folder containing the input files\n",
    "traj_prefix_list = ['1AKI_md1_300ns', '1AKI_md2_300ns'] # list of input trajectories (without the extension)\n",
    "traj_format = 'xtc'           # extension of trajectory input files (only xtc files have been tested)\n",
    "output_dir = 'output'         # name of the folder where all output files and folders will be saved\n",
    "\n",
    "# End of user-defined variables -------------------------\n",
    "\n",
    "ntraj = len(traj_prefix_list)\n",
    "topology_file = input_dir + '/' + topology\n",
    "trajectory_files = [input_dir + '/' + x + '.' + traj_format for x in traj_prefix_list]\n",
    "\n",
    "pka_files = [output_dir + '/' + x + '/' + x + '_pka.csv' for x in traj_prefix_list]\n",
    "buriedness_files = [output_dir + '/' + x + '/' + x + '_buriedness.csv' for x in traj_prefix_list]\n",
    "trajectory_dict = {x: input_dir + '/' + x + '.' + traj_format for x in traj_prefix_list}\n",
    "\n",
    "output_directories = [output_dir + '/' + x for x in traj_prefix_list]\n",
    "output_prefix = traj_prefix_list"
   ]
  },
  {
   "cell_type": "markdown",
   "metadata": {},
   "source": [
    "In the next sections, you will learn how to:\n",
    "1. Predict the p*K*<sub>a</sub> of ionisable residues for the entire trajectory and analyse their distributions.\n",
    "2. Colour the ionisable residues by their p*K*<sub>a</sub> values in a 3D representation of the protein. A PyMOL installation is required.\n",
    "3. Cluster the trajectory frames on the basis of the p*K*<sub>a</sub> values of selected residues and retrieve cluster representatives.\n",
    "4. Perform pseudo-mutations of selected residues to assess their contribution to the p*K*<sub>a</sub> of ionisable residues nearby.\n",
    "5. Detect correlations between pKa changes and collective motions."
   ]
  },
  {
   "cell_type": "markdown",
   "metadata": {},
   "source": [
    "# 1. Trajectory p*K*<sub>a</sub> prediction"
   ]
  },
  {
   "cell_type": "markdown",
   "metadata": {},
   "source": [
    "`Trajectory` is the main class provided by TrIPP and it can be used to automatically run PROPKA predictions on all the frames of the input trajectory. The calculation is sped up by slicing the trajectory into different parts, which are processed in parallel. The p*K*<sub>a</sub> and (only if requested) buried ratio ('buriedness') values of each ionizable residue are saved to individual CSV files."
   ]
  },
  {
   "cell_type": "markdown",
   "metadata": {},
   "source": [
    "In the cell below, the `Trajectory` class is used to track the predicted p*K*<sub>a</sub> values of HEWL ionisable residues in two MD trajectories. **The running time on a Macbook Pro (M2 Pro) using 12 cores is ~ 1 minute**. A successful run of this cell will produce the following files:\n",
    "\n",
    "* **output/1AKI_md1_300ns/1AKI_md1_300ns.log**: log file with a summary of the settings, trajectory splits, run time and some statstics (Mean, Median and Standard Deviation of p*K*</sub>a</sub> values for each ionisable residue)\n",
    "* **output/1AKI_md1_300ns/1AKI_md1_300ns_pka.csv**: csv file with the time (ps) in the first column + pka values for the ionisable residues calculated during the trajectory (1 column for each residue) \n",
    "* **output/1AKI_md1_300ns/1AKI_md1_300ns_buriedness.csv**: csv file with the time (ps) in the first column + buried ratio values for the ionisable residues calculated during the trajectory (1 column for each residue)\n",
    "* **output/1AKI_md1_300ns/1AKI_md1_300ns_propka_warnings.log**: when present, PROPKA warnings are redirected to a separate log file\n",
    "\n",
    "plus equivalent folders and files for the second trajectory (1AKI_md2_300ns.xtc)."
   ]
  },
  {
   "cell_type": "markdown",
   "metadata": {},
   "source": [
    "**Note on 'Missing atoms' warning from PROPKA**: occasionally PROPKA might give a warning about \"Missing atoms or failed protonation for XXX -- please check the structure\", where XXX is an acidic or basic group of a residue as recognised by PROPKA. This is related to the use of PROPKA of pre-defined interaction atoms for these groups: https://propka.readthedocs.io/en/latest/_modules/propka/group.html. "
   ]
  },
  {
   "cell_type": "markdown",
   "metadata": {},
   "source": [
    "**MDAnalysis warnings:** Depending on the PDB file used to define the system topology, MDAnalysis may issue warnings such as \"missing element information.\" These warnings are not necessarily indicative of an error but users are advised to review them carefully to ensure the topology is interpreted as intended."
   ]
  },
  {
   "cell_type": "code",
   "execution_count": null,
   "metadata": {},
   "outputs": [],
   "source": [
    "for idx in range(ntraj):\n",
    "    print(f'Processing {trajectory_files[idx]}')\n",
    "    TrIPP_Traj = Trajectory(topology_file = topology_file,\n",
    "                            trajectory_file = trajectory_files[idx],\n",
    "                            output_directory = output_directories[idx],\n",
    "                            output_prefix = output_prefix[idx],\n",
    "                            hetatm_resname = None, # str or list of str of PDB residue names for non-protein molecules \n",
    "                                                   # that we want to be taken into account by PROPKA in the pKa calculation.\n",
    "                                                   # Their record type will be set to 'HETATM'. e.g.: 'ADP' or ['ADP','PI2']\n",
    "                            custom_terminal_oxygens = None,  # names of terminal oxygen atoms when different from ['O', 'OXT'], \n",
    "                                                             # provided as a list, e.g.: ['OC1', 'OC2']\n",
    "                            custom_resname_correction = None,   # dictionary of custom protein residue names not included in\n",
    "                                                                # the hard-coded TrIPP dictionary (tripp._correction_dictionary_.py). \n",
    "                                                                # Can be given as e.g. {'XXX':'ASP'}, where 'XXX' is the residue\n",
    "                                                                # name in the PDB file and 'ASP' is the corresponding\n",
    "                                                                # PROPKA name.\n",
    "                            cpu_core_number = -1)   # number of CPU cores. Set to -1 to use all available cores.\n",
    "    \n",
    "    TrIPP_Traj.run(extract_buriedness_data = True,   # Set to True to save also the buriedness values, \n",
    "                                                     # otherwise only pKa values are saved.\n",
    "                   mutation_selections = None,   # Set to None to run PROPKA on the original residues (no pseudo-mutations).\n",
    "                                                 # See Section 4 to run pseudo-mutations.\n",
    "                   save_disulphide_pka = False,   # If set to False, pka and buried ratio values for cysteines \n",
    "                                                  # forming a disulphide bond will not be saved in the CSV files.\n",
    "                   optargs = [])  # optargs for PROPKA.run.single(). Example of usage can be found at\n",
    "                                  # https://propka.readthedocs.io/en/latest/_modules/propka/run.html#single\n",
    "                                  # and the accepted flags can be found at https://propka.readthedocs.io/en/latest/command.html\n",
    "                                  # Note: use ['-k'] to keep protons from input file (default: False).\n",
    "    print('---------------------------------------------------------------------------------')"
   ]
  },
  {
   "cell_type": "markdown",
   "metadata": {},
   "source": [
    "The distribution of the p*K*<sub>a</sub> values for each ionisable residue can be visualized by running the following cell. Heatmaps of the distributions are shown with a colour gradient (blue), while a dotted red line indicates the model p*K*<sub>a</sub> value for each residue type obtained from [PROPKA3](https://github.com/jensengroup/propka/blob/27e0ad2f8d653404f57c78f1cae2ec32cb5adb68/propka/propka.cfg#L5-L13). Note that N+ and C- correspond to the amino and carboxyl groups at the N- and C-terminus, respectively."
   ]
  },
  {
   "cell_type": "code",
   "execution_count": null,
   "metadata": {},
   "outputs": [],
   "source": [
    "fig, ax = plt.subplots(1, ntraj, figsize = (4 * ntraj, 6), sharex = True, sharey = True) \n",
    "ax = np.atleast_1d(ax)\n",
    "\n",
    "#Plot histogram showing the pKa values\n",
    "for idx in range(ntraj):\n",
    "    df_md = pd.read_csv(pka_files[idx]) \n",
    "    df_melt = df_md.melt(id_vars = 'Time [ps]', var_name = 'Residues', value_name = 'pKa value') \n",
    "    sns.histplot(data=df_melt, x = 'pKa value', y = 'Residues', ax = ax[idx], binwidth = 0.1)\n",
    "    ax[idx].set(xlabel = r'pK$_{\\rm a}$')\n",
    "    ax[idx].set_title(f\"{trajectory_files[idx].split('/')[-1].split('.')[0]}\")\n",
    "    #Adding model pKa value to each row\n",
    "    for ytick, residue in enumerate([i[:3] for i in df_melt['Residues'].unique()]):\n",
    "        if 'N+' in residue:\n",
    "            ax[idx].vlines(model_pka_values['NTR'], ytick-0.5, ytick+0.5, colors = 'red', linestyles = 'dotted')\n",
    "        elif 'C-' in residue:\n",
    "            ax[idx].vlines(model_pka_values['CTR'], ytick-0.5, ytick+0.5, colors = 'red', linestyles = 'dotted')\n",
    "        else:\n",
    "            ax[idx].vlines(model_pka_values[residue], ytick-0.5, ytick+0.5, colors = 'red', linestyles = 'dotted')\n",
    "    ax[idx].legend(['Model pKa'])\n",
    "plt.show()"
   ]
  },
  {
   "cell_type": "markdown",
   "metadata": {},
   "source": [
    "The acidic residues ASP52 and GLU35 are of particular interest since they show an upshift of their p*K*<sub>a</sub> values towards physiological pH, which means that an increase of their p*K*<sub>a</sub> due to the changes in the local environement would change their favoured protonation state."
   ]
  },
  {
   "cell_type": "markdown",
   "metadata": {},
   "source": [
    "TrIPP can also calculate the p*K*<sub>a</sub> deviation from the PROPKA model value for each ionisable residue and save it to a CSV file using the `calculate_difference_to_model` function. Running the cell below creates the following files:\n",
    "\n",
    "* **output/1AKI_md1_300ns/1AKI_md1_300ns_difference_to_model.csv**: csv file with the time (ps) in the first column + p*K*<sub>a</sub> deviation from model values for the ionisable residues calculated during the 1AKI_md1_300ns.xtc trajectory (1 column for each residue)\n",
    "\n",
    "plus an equivalent file for the second trajectory (1AKI_md2_300ns.xtc)."
   ]
  },
  {
   "cell_type": "code",
   "execution_count": null,
   "metadata": {},
   "outputs": [],
   "source": [
    "for idx in range(ntraj):\n",
    "    calculate_difference_to_model(input_directory = output_directories[idx],\n",
    "                                  output_prefix = output_prefix[idx])"
   ]
  },
  {
   "cell_type": "markdown",
   "metadata": {},
   "source": [
    "The corresponding distributions can be visualised as above by running the following cell:"
   ]
  },
  {
   "cell_type": "code",
   "execution_count": null,
   "metadata": {},
   "outputs": [],
   "source": [
    "fig, ax = plt.subplots(1, ntraj, figsize = (4 * ntraj, 6), sharex = True, sharey = True) \n",
    "ax = np.atleast_1d(ax)\n",
    "\n",
    "#Plot histogram showing the deviation from the model pKa values \n",
    "for idx in range(ntraj):\n",
    "    df_md = pd.read_csv(f'{output_directories[idx]}/{output_prefix[idx]}_difference_to_model.csv')\n",
    "    df_melt = df_md.melt(id_vars = 'Time [ps]', var_name = 'Residues', value_name = 'pKa value deviation') \n",
    "    sns.histplot(data = df_melt, x = 'pKa value deviation', y = 'Residues', ax = ax[idx], binwidth = 0.1)\n",
    "    ax[idx].set(xlabel = r'pK$_{\\rm a}$ deviation')\n",
    "    ax[idx].set_title(f\"{trajectory_files[idx].split('/')[-1].split('.')[0]}\")\n",
    "plt.show()"
   ]
  },
  {
   "cell_type": "markdown",
   "metadata": {},
   "source": [
    "# 2. Visualizing with PyMOL"
   ]
  },
  {
   "cell_type": "markdown",
   "metadata": {},
   "source": [
    "The `Visualization` class in TrIPP allows p*K*<sub>a</sub> values to be colour mapped onto a structure provided by the user. Using this class requires specifying the path to a local PyMOL exectuable in the user-defined variables section below.\n",
    "\n",
    "There are different options for the p*K*<sub>a</sub> values to be mapped, which can be specified with the `coloring_method` argument of `gen_pse()`:\n",
    "\n",
    "* **'mean'**: the mean p*K*<sub>a</sub> value is mapped on each ionisable residue. Mean values are calculated over all the p*K*<sub>a</sub> files specified through the `pka_file` argument of `Visualization`.\n",
    "\n",
    "* **'difference_to_model_value'**: the difference between the mean and the model p*K*<sub>a</sub> value is mapped on each ionisable residue. Mean values are calculated over all the p*K*<sub>a</sub> files specified through the `pka_file` argument of `Visualization`.\n",
    "\n",
    "* **'correlation'**: the coupling between p*K*<sub>a</sub> and collective motions in the protein is mapped on each ionisable residue. This option requires providing an additional file (see Part 5). \n",
    "\n",
    "* **an integer or float**: if the timestep of a specific frame is given, the p*K*<sub>a</sub> value calculated for that frame is mapped on each ionisable residue."
   ]
  },
  {
   "cell_type": "markdown",
   "metadata": {},
   "source": [
    "Running the cell below generates the following files:\n",
    "* **output/1AKI_md_all_300ns_pka_mean.pse**: PyMOL session for the mapping of mean p*K*<sub>a</sub> values\n",
    "* **output/1AKI_md_all_300ns_pka_mean.pdb**: reference PDB file with mean p*K*<sub>a</sub> values in the B-factor field\n",
    "* **output/1AKI_md_all_300ns_pka_difference_to_model_value.pse**: PyMOL session for the mapping of the difference between mean and model p*K*<sub>a</sub> values\n",
    "* **output/1AKI_md_all_300ns_pka_difference_to_model_value.pdb**: reference PDB file with the difference between mean and model p*K*<sub>a</sub> values in the B-factor field"
   ]
  },
  {
   "cell_type": "code",
   "execution_count": null,
   "metadata": {},
   "outputs": [],
   "source": [
    "# Start of user-defined variables -------------------------\n",
    "\n",
    "pymol_path = '/Applications/PyMOL.app/Contents/MacOS/MacPyMOL' # path to PyMOL executable\n",
    "pymol_output_prefix = '1AKI_md_all_300ns_pka' # prefix of output file names for the PyMOL analysis\n",
    "\n",
    "# End of user-defined variables -------------------------\n",
    "TrIPP_Vis = Visualization(topology_file = topology_file, \n",
    "                          pka_file = pka_files, # filename(s) (including the path), can be str or list of str\n",
    "                          start = 0, # start time (as in the pKa csv file). pKa values are averaged over the frames between start and end. \n",
    "                                     # Defaults to 0 (first frame in the trajectory) \n",
    "                          end = -1)  # end time (as in the pKa csv file). pKa values are averaged over the frames between start and end.\n",
    "                                     # Defaults to -1 (last frame in the trajectory).\n",
    "\n",
    "TrIPP_Vis.gen_pse(pymol_path = pymol_path,\n",
    "                  output_directory = output_dir,\n",
    "                  output_prefix = pymol_output_prefix,\n",
    "                  coloring_method = 'mean',  # generates PyMOL session with the mean pKa \n",
    "                  lower_limit = 0,   # Minimum of the colour scale\n",
    "                  upper_limit = 14,  # Maximum of the colour scale\n",
    "                  color_palette = 'red_white_blue')  # see https://pymolwiki.org/index.php/Spectrum for available palettes\n",
    "\n",
    "TrIPP_Vis = Visualization(topology_file = topology_file, \n",
    "                          pka_file = pka_files, # filename(s) (including the path), can be str or list of str\n",
    "                          start = 0, # start time (as in the pKa csv file). pKa values are averaged over the frames between start and end. \n",
    "                                     # Defaults to 0 (first frame in the trajectory)\n",
    "                          end = -1) # end time (as in the pKa csv file). pKa values are averaged over the frames between start and end.\n",
    "                                     # Defaults to -1 (last frame in the trajectory).\n",
    "\n",
    "TrIPP_Vis.gen_pse(pymol_path = pymol_path,\n",
    "                  output_directory = output_dir,\n",
    "                  output_prefix = pymol_output_prefix,\n",
    "                  coloring_method = 'difference_to_model_value',  # generates PyMOL session with the difference between the mean and the model pKa \n",
    "                  lower_limit = -3,  # Minimum of the colour scale\n",
    "                  upper_limit = 2,   # Maximum of the colour scale\n",
    "                  color_palette = 'red_white_blue')  # see https://pymolwiki.org/index.php/Spectrum for available palettes"
   ]
  },
  {
   "cell_type": "markdown",
   "metadata": {},
   "source": [
    "Below you can see snapshots of the mapping of mean p*K*<sub>a</sub> values (left) and of the difference between mean and model p*K*<sub>a</sub> values (right) for HEWL:"
   ]
  },
  {
   "cell_type": "markdown",
   "metadata": {},
   "source": [
    "| Mean pKa values | Mean pKa - model values |\n",
    "| -------- | -------- |\n",
    "| <img src=\"data/Mean_pka.png\" width=\"400\"/>     | <img src=\"data/Difference_to_model_pka.png\" width=\"400\"/>     |"
   ]
  },
  {
   "cell_type": "markdown",
   "metadata": {},
   "source": [
    "# 3. Clustering with p*K*<sub>a</sub> values"
   ]
  },
  {
   "cell_type": "markdown",
   "metadata": {},
   "source": [
    "It is useful to have a method to extract structures that are representative of the different environments around ionisable residues observed during the trajectory. \n",
    "\n",
    "The `Clustering` class in TrIPP can be used to cluster the frames using one of the following methods:\n",
    "\n",
    "* **K-medoids** (implemented as `kmedoid` method of the `Clustering` class).\n",
    "* A **greedy** method as described in Micheletti et al. PROTEINS: Structure, Function, and Genetics 40:662– 674 (2000)(implemented as `greedy`).\n",
    "* **DBSCAN** (implemented as `dbscan`).\n",
    "* **HDBSCAN** (implemented as `hdbscan`).\n",
    "\n",
    "The features used to describe the frames in the clustering include:\n",
    "\n",
    "* The p*K*<sub>a</sub> values of the residues of interest.\n",
    "* (Optional) All the possible pairs of distances between charge centers in those residues (`include_distances` = True).\n",
    "* (Optional) The buried ratio of the residues of interest (`include_buriedness` = True)\n",
    "\n",
    "The frame features are preprocessed (Z-score normalisation) before clustering. It is also possible to run a PCA on the features before the clustering is performed (`dimensionality_reduction` = True). \n",
    "\n",
    "See the main text of the TrIPP manuscript for more details on the clustering implementation."
   ]
  },
  {
   "cell_type": "code",
   "execution_count": null,
   "metadata": {},
   "outputs": [],
   "source": [
    "# Start of user-defined variables -------------------------\n",
    "\n",
    "residue_clust_list = ['chainID A and resid 35', # list of residue selections (MDAnalysis selection commands) to be used in the clustering\n",
    "                      'chainID A and resid 52'] \n",
    "clustering_output_prefix = '1AKI_md_all_300ns' # prefix of output files from the clustering analysis\n",
    "\n",
    "# End of user-defined variables -------------------------\n",
    "\n",
    "u = create_mda_universe(topology_file,None)\n",
    "residue_identifier_list = []\n",
    "for residue_selection in residue_clust_list:\n",
    "    resname = u.select_atoms(residue_selection).residues.resnames.astype(str)\n",
    "    resid = u.select_atoms(residue_selection).residues.resids.astype(str)\n",
    "    chainID = u.select_atoms(residue_selection).atoms.chainIDs.astype(str)[0]\n",
    "    residue_identifier_list.append(np.char.add(resname, resid)[0]+':'+ chainID)"
   ]
  },
  {
   "cell_type": "markdown",
   "metadata": {},
   "source": [
    "The code in the cell below clusters frames from all the input trajectories using HDBSCAN and the p*K*<sub>a</sub> values of selected residues as features. When the `automatic` argument is set to True, an automatic searching of optimal hyperparameter values is carried out. The range of hyperparameter values being tested for HDBSCAN can be set  with `min_cluster_size_range` and `min_samples_range`. If `automatic` is set to False, the hyperparameter values (`min_cluster_size`, `min_samples`) need to be set manually.\n",
    "\n",
    "Running the cell produces the following files:\n",
    "\n",
    "* **output/1AKI_md_all_300ns_HDBSCAN.log**: a log file containing the clustering details.\n",
    "* **output/1AKI_md_all_300ns_HDBSCAN_C0.pdb**, **1AKI_md_all_300ns_HDBSCAN_C1.pdb** and **1AKI_md_all_300ns_HDBSCAN_C2.pdb**: PDB files of the representative structures of the three clusters found in the optimal clustering run (number of output clusters = 3).\n",
    "* **output/1AKI_md_all_300ns_HDBSCAN_cluster.csv**: a CSV file containing the cluster label for each frame (optimal clustering), together with the p*K*<sub>a</sub> values of the selected residues."
   ]
  },
  {
   "cell_type": "code",
   "execution_count": null,
   "metadata": {},
   "outputs": [],
   "source": [
    "TrIPP_Clust = Clustering(topology_file = topology_file, \n",
    "                         trajectory_file = trajectory_dict,  # Dictionary where the key is the name of the trajectory, and the value is the path to that trajectory\n",
    "                         pka_file = pka_files,  # List of paths to pKa files. The paths need to be given in the \n",
    "                                                # same order as the corresponding trajectories in trajectory_file\n",
    "                         buriedness_file = buriedness_files,\n",
    "                         selections = residue_clust_list,  # List of residues used for the clustering (selected with MDAnalysis selection syntax)\n",
    "                         output_directory = output_dir,\n",
    "                         output_prefix = clustering_output_prefix, \n",
    "                         include_distances = False,  # If set to true, the feature matrix will include the euclidean distance between all the possible pairs of charge centres in the selected group of residues\n",
    "                         include_buriedness = False,  # If set to true, the feature matrix will include the buriedness of the selected residues\n",
    "                         dimensionality_reduction = False)  # If set to true, a principal component analysis is performed on the feature matrix before clustering. Principal components accounting for up to 90% of the total variance are retained.\n",
    "\n",
    "TrIPP_Clust.hdbscan(automatic = True, # automatic search of optimal hyperparameter values (evaluated by Silhouette score)\n",
    "                    min_cluster_size_range = (20,80,5), # range and step for min_cluster_size (used only if automatic is set to True)\n",
    "                    min_samples_range = (20,80,5), # range and step for min_samples (used only if automatic is set to True) \n",
    "                    max_clusters = 20, # solutions with number of clusters > max_clusters are rejected\n",
    "                    min_cluster_size = None, # int, min_cluster_size (used only if automatic is set to False)\n",
    "                    min_samples = None) # int, min_samples (used only if automatic is set to False)                   "
   ]
  },
  {
   "cell_type": "markdown",
   "metadata": {},
   "source": [
    "The frames can be plotted in the 2D space of the p*K*<sub>a</sub> pair values and coloured according to the cluster IDs from the clustering with optimal hyperparameters (outliers from the HDBSCAN clustering are labelled with a -1 cluster ID):"
   ]
  },
  {
   "cell_type": "code",
   "execution_count": null,
   "metadata": {},
   "outputs": [],
   "source": [
    "pairs = list(combinations(range(len(residue_identifier_list)), 2))\n",
    "npairs = len(pairs)\n",
    "\n",
    "fig, ax = plt.subplots(1, npairs, figsize = (npairs * 5, 5))\n",
    "ax = np.atleast_1d(ax)\n",
    "\n",
    "for i, idx in enumerate(pairs):\n",
    "    df_cluster = pd.read_csv(f'{output_dir}/{clustering_output_prefix}_HDBSCAN_cluster.csv')\n",
    "    xlabel = residue_identifier_list[idx[0]] \n",
    "    ylabel = residue_identifier_list[idx[1]]\n",
    "    \n",
    "    sns.scatterplot(data = df_cluster, x = xlabel, y = ylabel, s = 2, hue = 'Clusters', palette = 'tab10', ax = ax[i])\n",
    "    ax[i].set(xlabel = xlabel + r' pK$_{\\rm a}$')\n",
    "    ax[i].set(ylabel = ylabel + r' pK$_{\\rm a}$')\n",
    "    ax[i].legend(title = 'Cluster ID')\n",
    "    for cluster_label, cluster_idx in enumerate(TrIPP_Clust._cluster_center_indices):\n",
    "        cluster_x = df_cluster.iloc[cluster_idx][xlabel]\n",
    "        cluster_y = df_cluster.iloc[cluster_idx][ylabel]\n",
    "        ax[i].scatter(cluster_x, cluster_y, marker=f'${cluster_label}$',c='black',s=100)\n",
    "plt.show()"
   ]
  },
  {
   "cell_type": "markdown",
   "metadata": {},
   "source": [
    "Looking at the structures of cluster representatives (centroids) saved in the PDB files helps explaining the pKa differences across the three clusters.\n",
    "ASP52 forms a hydrogen bond with ASN44 in cluster 0 and 2, but not in cluster 1, which explains why ASP52 p*K*<sub>a</sub> tends to be lower in clusters 0 and 2 (orange and red in the plot, respectively) compared to cluster 1 (green).\n",
    "\n",
    "There is a clear difference in the p*K*<sub>a</sub> of GLU35 between cluster 0 on one side and clusters 1 and 2 on the other. This is explained by GLU35 forming a hydrogen bond with ARG114 in clusters 1 and 2, which leads to a decrease of GLU35 p*K*<sub>a</sub> compared to cluster 0. The formation of this hydrogen bond is favoured by a conformational change of the backbone region around GLU35, which is stabilised by hydrogen bond interactions between ASN44 and the backbone of GLU35 (cluster 1). The competition between the ASP52-ASN44 and GLU35-ASN44 interactions explains the anti-correlation between GLU35 and ASP52 p*K*<sub>a</sub> values during the MD trajectories."
   ]
  },
  {
   "cell_type": "markdown",
   "metadata": {},
   "source": [
    " | Cluster 0 | Cluster 1 | Cluster 2 |\n",
    "| -------- | -------- | -------- |\n",
    "| <img src = \"data/HDBSCAN_C0.png\" width = \"400\"/>   |  <img src = \"data/HDBSCAN_C1.png\" width = \"400\"/>   |   <img src = \"data/HDBSCAN_C2.png\" width = \"400\"/>|"
   ]
  },
  {
   "cell_type": "markdown",
   "metadata": {},
   "source": [
    "# 4. _Pseudomutations_ in TrIPP \n",
    "\n",
    "When running TrIPP, a `mutation_selections` argument (based on MDAnalysis selection commands) can be used to mutate a given residue to alanine before the p*K*<sub>a</sub> calculations are carried out. Comparing these values with the ones from the original frames ('wild type'), provides a direct measure of the contribution of the mutated side chain to the p*K*<sub>a</sub> of the ionisable residues nearby. We called these mutations _pseudomutations_ since for each frame only the selected residue is changed, while the rest of the protein is left unchanged (no new MD simulations are run to model how the structure of the protein changes as a result of the mutation).\n",
    "\n",
    "In the following example, we run a total of four _pseudomutations_ (one at a time) on the two trajectories: \n",
    "- ASN44ALA\n",
    "- ASN46ALA\n",
    "- ASN59ALA\n",
    "- ARG114ALA\n",
    "\n",
    "Let's first select the residues to be mutated:"
   ]
  },
  {
   "cell_type": "code",
   "execution_count": null,
   "metadata": {},
   "outputs": [],
   "source": [
    "# Start of user-defined variables -------------------------\n",
    "\n",
    "mutation_selections_list = ['chainID A and resid 44', # list of residues to be mutated (MDAnalysis selection commands)\n",
    "                            'chainID A and resid 46',\n",
    "                            'chainID A and resid 59',\n",
    "                            'chainID A and resid 114']\n",
    "\n",
    "residue_selections_list = ['chainID A and resid 52', 'chainID A and resid 35'] # the pKa of these residues will be plotted \n",
    "                                                                               # before ('Wild Type') and after the pseudomutation \n",
    "                                                                               # is applied (MDAnalysis selections commands)\n",
    "# End of user-defined variables -------------------------\n",
    "\n",
    "u = create_mda_universe(topology_file, None)\n",
    "\n",
    "mutation_list = []\n",
    "for mutation_selection in mutation_selections_list:\n",
    "    resname = u.select_atoms(mutation_selection).residues.resnames.astype(str)\n",
    "    resid = u.select_atoms(mutation_selection).residues.resids.astype(str)\n",
    "    mutation_list.append(np.char.add(np.char.add(resname, resid), 'ALA')[0])\n",
    "\n",
    "residue_identifier_list = []\n",
    "for residue_selection in residue_selections_list:\n",
    "    resname = u.select_atoms(residue_selection).residues.resnames.astype(str)\n",
    "    resid = u.select_atoms(residue_selection).residues.resids.astype(str)\n",
    "    chainID = u.select_atoms(residue_selection).atoms.chainIDs.astype(str)[0]\n",
    "    residue_identifier_list.append(np.char.add(resname, resid)[0]+':'+ chainID)\n",
    "\n",
    "mutation_output_directories = [ [output_dir + '/' + x + '_' + y for y in mutation_list] for x in traj_prefix_list ]\n",
    "mutation_output_prefix = [ [ x + '_' + y for y in mutation_list] for x in traj_prefix_list ]"
   ]
  },
  {
   "cell_type": "markdown",
   "metadata": {},
   "source": [
    "**The running time of the following cell on a Macbook Pro (M2 Pro) using 12 cores is ~ 5 minutes.**\n",
    "\n",
    "Running the cell produces as many new folders in the `output_dir` as the number of _pseudomutations_, each containing a log and a pka file (see Part 1 for a description of their format)."
   ]
  },
  {
   "cell_type": "code",
   "execution_count": null,
   "metadata": {},
   "outputs": [],
   "source": [
    "for idx in range(len(trajectory_files)):\n",
    "    for mtype_idx, mutation in enumerate(mutation_list): \n",
    "        print(f'Processing pseudomutation {mutation} in {trajectory_files[idx]}.')\n",
    "        \n",
    "        TrIPP_Traj = Trajectory(trajectory_file = trajectory_files[idx], \n",
    "                                topology_file = topology_file,\n",
    "                                output_directory = mutation_output_directories[idx][mtype_idx],\n",
    "                                output_prefix = mutation_output_prefix[idx][mtype_idx],\n",
    "                                cpu_core_number = -1) \n",
    "        \n",
    "        TrIPP_Traj.run(extract_buriedness_data = False,\n",
    "                        mutation_selections = mutation_selections_list[mtype_idx],  # this can be single or multiple mutations. \n",
    "                                                                                    # In case of multiple mutations, provide the residues \n",
    "                                                                                    # in MDAnalysis selection commands. e.g.: 'chainID A and resid 44 46'\n",
    "                        save_disulphide_pka = False,  # set to False if you do not want data for CYS residues\n",
    "                                                      # in disulphide bonds to be saved in the output files \n",
    "                        optargs = [])\n",
    "        print('---------------------------------------------------------------------------------')"
   ]
  },
  {
   "cell_type": "markdown",
   "metadata": {},
   "source": [
    "After the calculation is complete, the p*K*<sub>a</sub> distributions of the residues listed in `residue_selections_list` are plotted to compare their values in the wild type and in the pseudomutated trajectories:"
   ]
  },
  {
   "cell_type": "code",
   "execution_count": null,
   "metadata": {},
   "outputs": [],
   "source": [
    "combined_df = []\n",
    "for idx in range(len(trajectory_files)):\n",
    "    pka_file = pka_files[idx]\n",
    "    df = pd.read_csv(pka_file)\n",
    "    df = df[['Time [ps]'] + residue_identifier_list]\n",
    "    df['Run'] = f\"{trajectory_files[idx].split('/')[-1].split('.')[0]}\"\n",
    "    df['System'] = 'Wild Type'\n",
    "    combined_df.append(df)\n",
    "    for mtype_idx, mutation_label in enumerate(mutation_list):\n",
    "        mutation_pka_file = mutation_output_directories[idx][mtype_idx] + '/' + mutation_output_prefix[idx][mtype_idx] + '_pka.csv'\n",
    "        df = pd.read_csv(mutation_pka_file)\n",
    "        df = df[['Time [ps]'] + residue_identifier_list]\n",
    "        df['Run'] = f\"{trajectory_files[idx].split('/')[-1].split('.')[0]}\"\n",
    "        df['System'] = mutation_label\n",
    "        combined_df.append(df)\n",
    "combined_df = pd.concat(combined_df)\n",
    "\n",
    "fig, ax = plt.subplots(1, len(residue_identifier_list), figsize = (len(residue_identifier_list) * 5,5))\n",
    "ax = np.atleast_1d(ax)\n",
    "for index, residue in enumerate(residue_identifier_list): \n",
    "    sns.boxplot(data = combined_df, x = 'Run', y = residue, hue = 'System', ax = ax[index]) \n",
    "    ax[index].set_ylabel(residue + r' pK$_{\\rm a}$')\n",
    "    ax[index].set_ylim([0, 14])\n",
    "    ax[index].legend(title = 'System')\n",
    "    for label in ax[index].get_xticklabels():\n",
    "        label.set_rotation(45)\n",
    "plt.show()"
   ]
  },
  {
   "cell_type": "markdown",
   "metadata": {},
   "source": [
    "The previous cell generates two sets of boxplots. The boxplots on the left show that for both trajectories, the p*K*<sub>a</sub> distribution of ASP52 is affected by _pseudomutation_ of the three asparagines but not of the arginine residue. _Pseudomutation_ of ASN44 seems to have a slightly reduced impact compared to the other ASN residues, which can be explained by the observation that this residue does not always form interactions with ASP52 (as also shown by the cluster analysis in Part 3). The p*K*<sub>a</sub> distribution of GLU35 (boxplots on the right) is only affected by ARG114, as expected since GLU35 interacts directly with ARG114 but not with the ASN residues."
   ]
  },
  {
   "cell_type": "markdown",
   "metadata": {},
   "source": [
    "# 5. Coupling between p*K*<sub>a</sub> changes and collective motions"
   ]
  },
  {
   "cell_type": "markdown",
   "metadata": {},
   "source": [
    "Calculating the correlation between p*K*<sub>a</sub> values and geometric variables describing the collective motions of the protein might be useful to identify residues whose p*K*<sub>a</sub> changes are somehow coupled with global conformational changes. Here we use the trajectory projection on a Principal Component (PC1 from a Principal Component Analysis (PCA) carried out on Cα coordinates in **1AKI_md1_300ns.xtc**), but in principle other variables could be used.\n",
    "\n",
    "The following cell calculates the correlation coefficient between the p*K*<sub>a</sub> values of each ionisable residue in the file **1AKI_md1_300ns_pka.csv** (generated in Part 1) and the PC1 projection values in the file **1AKI_md1_300ns_pc1.csv**. \n",
    "\n",
    "Requirements for the file containing the projection (or other property) values:\n",
    "\n",
    "* The file needs to be provided by the user as it is not generated in any part of this tutorial.\n",
    "* It needs to be located in the `input_dir` folder defined in Part 0.\n",
    "* It should contain the simulation time (first column) and the projection value (second column), separated by a comma, for **the same frames (in the same order)** as in the input trajectory for the calculation of the p*K*<sub>a</sub>.\n",
    "* It should **not** contain any header. \n",
    "\n",
    "Running the following cells generates the following file:\n",
    "\n",
    "* **output/1AKI_md1_300ns/1AKI_md1_300ns_pc1_1AKI_md1_300ns_pka_correlation.csv**"
   ]
  },
  {
   "cell_type": "code",
   "execution_count": null,
   "metadata": {},
   "outputs": [],
   "source": [
    "# Start of user-defined variables -------------------------\n",
    "\n",
    "PC_pka_pairs = {\n",
    "    '1AKI_md1_300ns_pc1.csv':'1AKI_md1_300ns_pka.csv',\n",
    "    } # Dictionary of PC projections, pKa file pairs: correlation coefficients will be calculated\n",
    "      # between PC and pKa values in each pair of files. The files with the PC projection values need to be \n",
    "      # generated separately and moved to the `input_dir` folder defined in Part 0. The files with \n",
    "      # the pKa values have been generated in Part 1 and are stored in the `output_dir` folder, the user\n",
    "      # just needs to make sure that the correct name for those files is used in this dictionary. \n",
    "\n",
    "# End of user-defined variables -------------------------\n",
    "\n",
    "npairs = len(PC_pka_pairs)\n",
    "unrolled_PC = [x for x in PC_pka_pairs.keys()]\n",
    "unrolled_pka = [x for x in PC_pka_pairs.values()]\n",
    "\n",
    "output_prefix_list = [unrolled_PC[i].split('.')[0] + '_' + unrolled_pka[i].split('.')[0] for i in range(npairs)]"
   ]
  },
  {
   "cell_type": "code",
   "execution_count": null,
   "metadata": {},
   "outputs": [],
   "source": [
    "for idx in range(npairs):\n",
    "    output_dir_idx = output_dir + \"/\" + re.search(r\"(.+)_pka\", unrolled_pka[idx]).group(1)\n",
    "    PCProjectionScreening(output_directory = output_dir_idx,\n",
    "                          output_prefix = output_prefix_list[idx] + '_correlation',\n",
    "                          pka_file = output_dir_idx + \"/\" + unrolled_pka[idx],  # Path+name of the CSV file with pKa values\n",
    "                          projection_file = input_dir + \"/\" + unrolled_PC[idx],  # Path+name of the CSV file with PC projection values\n",
    "                          method = 'Pearson', # Correlation method, can be 'Pearson' or 'Spearman'\n",
    "                          start=0, # start of the timestamp for calculating correlation ***IM mod***\n",
    "                          end=-1, # end of the timestamp for calculating correlation ***IM mod***\n",
    "                          header=None) # use header=0 if your projection_file contains header in the first row. ***IM mod***"
   ]
  },
  {
   "cell_type": "markdown",
   "metadata": {},
   "source": [
    "If a working installation of PyMOL is available, correlation values can be colour mapped onto the structure using our `Visualization` class and the `correlation_file` argument. A `correlation_threshold` argument can be also used to show only residues with correlation above/below a given value.\n",
    "\n",
    "Running the following cell requires having defined the `pymol_path` variable in Part 2. It will generate the following files:\n",
    "\n",
    "* **output/1AKI_md1_300ns/1AKI_md1_300ns_pc1_1AKI_md1_300ns_pka_correlation.pdb**: PDB file with the reference structure and the correlation values stored in the B-factor column (ionisable residues only) \n",
    "* **output/1AKI_md1_300ns/1AKI_md1_300ns_pc1_1AKI_md1_300ns_pka_correlation.pse**: PyMOL session"
   ]
  },
  {
   "cell_type": "code",
   "execution_count": null,
   "metadata": {},
   "outputs": [],
   "source": [
    "for idx in range(npairs):\n",
    "    output_dir_idx = output_dir + '/' + re.search(r'(.+)_pka', unrolled_pka[idx]).group(1)\n",
    "    Corr_Vis = Visualization(topology_file = topology_file,\n",
    "                             pka_file = None, # Need to be set to None to bypass the start and end parameters\n",
    "                             correlation_file = output_dir_idx + '/' + output_prefix_list[idx] + '_correlation.csv')  # Path+name of the CSV file \n",
    "                                                                                                                      # with the PC vs pKa correlation \n",
    "                                                                                                                      # coefficients\n",
    "\n",
    "    Corr_Vis.gen_pse(pymol_path = pymol_path, # path to PyMOL executable\n",
    "                     output_directory = output_dir_idx,\n",
    "                     output_prefix = output_prefix_list[idx],\n",
    "                     coloring_method = 'correlation',  # Residues will be coloured according to the PC vs pKa correlation coefficient\n",
    "                     lower_limit = -1,  # Minimum of the colour scale\n",
    "                     upper_limit = 1,   # Maximum of the colour scale\n",
    "                     correlation_threshold = 0.5,  # Show only residues with absolute correlation coefficient above this threshold\n",
    "                     color_palette = 'red_white_blue')"
   ]
  },
  {
   "cell_type": "markdown",
   "metadata": {},
   "source": [
    " <img src=\"data/PC_projection_correlation.png\" width=\"400\"/> "
   ]
  },
  {
   "cell_type": "markdown",
   "metadata": {},
   "source": [
    "The figure above shows a structure from the PyMOL session file generated in the previous cell, which highlights a strong coupling between the dominant collective motion observed in the first trajectory and the p*K*<sub>a</sub> values of our three residues GLU35, ASP52 and ARG114.\n",
    "\n",
    "Although this analysis is presented at the end of this tutorial, for new systems without prior knowledge of key residues, it may be useful to perform it early to identify residues whose p*K*<sub>a</sub> values could be correlated with functional motions."
   ]
  }
 ],
 "metadata": {
  "kernelspec": {
   "display_name": "tripp",
   "language": "python",
   "name": "python3"
  },
  "language_info": {
   "codemirror_mode": {
    "name": "ipython",
    "version": 3
   },
   "file_extension": ".py",
   "mimetype": "text/x-python",
   "name": "python",
   "nbconvert_exporter": "python",
   "pygments_lexer": "ipython3",
   "version": "3.9.23"
  }
 },
 "nbformat": 4,
 "nbformat_minor": 4
}
