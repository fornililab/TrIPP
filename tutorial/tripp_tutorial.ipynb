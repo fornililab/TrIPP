{
 "cells": [
  {
   "attachments": {},
   "cell_type": "markdown",
   "metadata": {},
   "source": [
    "# TrIPP tutorial - Lysozyme test case\n",
    "\n",
    "In the following example we will use TrIPP to monitor and analyse the p*K*<sub>a</sub> of ionisable residues during Molecular Dynamics (MD) simulations of the hen egg-white lysozyme (HEWL; PDB ID: 1AKI). The input files to run this tutorial (provided in the *data* folder) are:\n",
    "\n",
    "* **1AKI_minstr.pdb**: energy minimised structure in PDB format (1960 atoms)\n",
    "* **1AKI_md1_300ns.xtc** and **1AKI_md2_300ns.xtc**: trajectory files of two 308.5-ns replicas in xtc format (frames are sampled every 100 ps, water molecules and counterions have been removed, the system is composed of a single-chain protein with no ligand)\n",
    "* **1AKI_md1_pc1.csv**: projection of 1AKI_md1_300ns.xtc onto its first principal component (PC1) - only required for Part 5\n",
    "\n",
    "The protonation state of ionisable residues during the MD simulations was determined using PROPKA (version 3.4.0) on the initial structure (pH = 7.0).\n",
    "\n",
    "**Running time:** running all the parts of this tutorial on a Macbook Pro (M2 Pro) using 12 cores requires about 6 minutes."
   ]
  },
  {
   "cell_type": "markdown",
   "metadata": {},
   "source": [
    "**Important note on PROPKA** \n",
    "\n",
    "PROPKA has some requirements on the format of the input PDB file, in particular:\n",
    "\n",
    "1. PROPKA only recognizes specific residue names (for the standard 20 amino acids).\n",
    "2. The names of the two C-terminal oxygen atoms need to be O and OXT.\n",
    "3. The record type of non-protein atoms (e.g., a ligand) needs to be 'HETATM'.\n",
    "\n",
    "TrIPP has a hard-coded dictionary (tripp.\\_correction_dictionary_.py) that converts a list of standard residue names recognised by MDanalysis (https://userguide.mdanalysis.org/stable/standard_selections.html) to names compatible with PROPKA. A dictionary is also used to convert C-terminal oxygen atom names used in the GROMOS, AMBER or CHARMM force fields to the PROPKA format. \n",
    "\n",
    "#### *** to be changed, but it's unclear to me what it means!\n",
    "Molecules that are not recognized by MDAnalysis (not protein) could still be a residue or non protein molecules. Thus, we have also implemented a check for this so that user will be warned to modify it accordingly."
   ]
  },
  {
   "cell_type": "markdown",
   "metadata": {},
   "source": [
    "# 0. Libraries and user-defined variables "
   ]
  },
  {
   "cell_type": "markdown",
   "metadata": {},
   "source": [
    "Let's first import the required libraries:"
   ]
  },
  {
   "cell_type": "code",
   "execution_count": null,
   "metadata": {},
   "outputs": [],
   "source": [
    "from tripp import Trajectory\n",
    "from tripp.analysis import calculate_difference_to_model\n",
    "from tripp.analysis import PCProjectionScreening  \n",
    "import pandas as pd \n",
    "import matplotlib.pyplot as plt \n",
    "import seaborn as sns\n",
    "import numpy as np\n",
    "import re\n",
    "from itertools import combinations\n",
    "from tripp._model_pka_values_ import model_pka_values\n",
    "from tripp import Visualization  # PyMOL installation required, user needs to specify the path to the PyMOL executable (see Part 2)\n",
    "from tripp import Clustering "
   ]
  },
  {
   "cell_type": "markdown",
   "metadata": {},
   "source": [
    "To run this tutorial on your own trajectories, you will need to change the value of some user-defined variables. Please note that individual parts might have additional user-defined variables. **Important:** while in principle MDAnalysis supports different trajectory and topology formats, we have tested our tool only on xtc files generated with GROMACS. "
   ]
  },
  {
   "cell_type": "code",
   "execution_count": null,
   "metadata": {},
   "outputs": [],
   "source": [
    "# Start of user-defined variables -------------------------\n",
    "\n",
    "topology = '1AKI_minstr.pdb'  # name of the reference PDB file used to define the topology of the system\n",
    "input_dir = 'data'            # name of the folder containing the input files\n",
    "traj_prefix_list = ['1AKI_md1_300ns', '1AKI_md2_300ns'] # list of input trajectories (without the extension)\n",
    "traj_format = 'xtc'           # extension of trajectory input files (only xtc files have been tested)\n",
    "output_dir = 'output'         # name of the folder where all output files and folders will be saved\n",
    "chain_ID = 'A'                # PROPKA will calculate the pKa values for residues in this chain. \n",
    "                              # Other chains will be taken into account in the calculation \n",
    "                              # (so they can affect the pKa values of ionisable residues in the selected chain).    \n",
    "                              # If the reference PDB file does not have chain IDs, the ID specified here will be added\n",
    "                              # to all the atoms in the system.\n",
    "\n",
    "# End of user-defined variables -------------------------\n",
    "\n",
    "ntraj = len(traj_prefix_list)\n",
    "topology_file = input_dir + '/' + topology\n",
    "trajectory_files = [input_dir + '/' + x + '.' + traj_format for x in traj_prefix_list]\n",
    "\n",
    "pka_files = [output_dir + '/' + x + '/' + x + '_pka.csv' for x in traj_prefix_list]\n",
    "buriedness_files = [output_dir + '/' + x + '/' + x + '_buriedness.csv' for x in traj_prefix_list]\n",
    "trajectory_dict = {x: input_dir + '/' + x + '.' + traj_format for x in traj_prefix_list}\n",
    "\n",
    "output_directories = [output_dir + '/' + x for x in traj_prefix_list]\n",
    "output_prefix = traj_prefix_list"
   ]
  },
  {
   "cell_type": "markdown",
   "metadata": {},
   "source": [
    "In the next sections, you will learn how to:\n",
    "1. Predict the p*K*<sub>a</sub> of ionisable residues for the entire trajectory and analyse their distributions.\n",
    "2. Colour the ionisable residues by their p*K*<sub>a</sub> values in a 3D representation of the protein. A PyMOL installation is required.\n",
    "3. Cluster the trajectory frames on the basis of the p*K*<sub>a</sub> values of selected residues and retrieve cluster representatives.\n",
    "4. Perform pseudo-mutations of selected residues to assess their contribution to the p*K*<sub>a</sub> of ionisable residues nearby.\n",
    "5. Detect correlations between pKa changes and collective motions."
   ]
  },
  {
   "cell_type": "markdown",
   "metadata": {},
   "source": [
    "# 1. Trajectory p*K*<sub>a</sub> prediction"
   ]
  },
  {
   "cell_type": "markdown",
   "metadata": {},
   "source": [
    "`Trajectory` is the main class provided by TrIPP and it can be used to automatically run PROPKA predictions on all the frames of the input trajectory. The calculation is sped up by slicing the trajectory into different parts, which are processed in parallel. The p*K*<sub>a</sub> and (only if requested) buriedness values of each ionizable residue are saved into individual CSV files."
   ]
  },
  {
   "cell_type": "markdown",
   "metadata": {},
   "source": [
    "In the cell below, the `Trajectory` class is used to track the predicted p*K*<sub>a</sub> values of HEWL ionisable residues in two MD trajectories. **The running time on a Macbook Pro (M2 Pro) using 12 cores is ~ 1 minute**. A successful run of this cell will produce the following files:\n",
    "\n",
    "* **output/1AKI_md1_300ns/1AKI_md1_300ns.log**: log file with a summary of the settings, trajectory splits, run time and some statstics (Mean, Median and Standard Deviation of p*K*</sub>a</sub> values for each ionisable residue)\n",
    "* **output/1AKI_md1_300ns/1AKI_md1_300ns_pka.csv**: csv file with the time (ps) in the first column + pka values for the ionisable residues calculated during the trajectory (1 column for each residue) \n",
    "* **output/1AKI_md1_300ns/1AKI_md1_300ns_buriedness.csv**: csv file with the time (ps) in the first column + pka values for the ionisable residues calculated during the trajectory (1 column for each residue)\n",
    "\n",
    "plus equivalent folders and files for the second trajectory (1AKI_md2_300ns.xtc)."
   ]
  },
  {
   "cell_type": "markdown",
   "metadata": {},
   "source": [
    "**Note on 'Missing atoms' warning from PROPKA**: occasionally PROPKA might give a warning about \"Missing atoms or failed protonation for XXX -- please check the structure\", where XXX is an acidic or basic group of a residue as recognised by PROPKA. This is related to the use of PROPKA of pre-defined interaction atoms for these groups: https://propka.readthedocs.io/en/latest/_modules/propka/group.html. "
   ]
  },
  {
   "cell_type": "code",
   "execution_count": null,
   "metadata": {},
   "outputs": [],
   "source": [
    "for idx in range(ntraj):\n",
    "    print(f'Processing {trajectory_files[idx]}')\n",
    "    TrIPP_Traj = Trajectory(topology_file = topology_file,\n",
    "                            trajectory_file = trajectory_files[idx],\n",
    "                            output_directory = output_directories[idx],\n",
    "                            output_prefix = output_prefix[idx],\n",
    "                            hetatm_resid = None,   # list (?) of PDB resid values for non-protein molecules \n",
    "                                                   # that we want PROPKA to take into account in the pKa calculation.\n",
    "                                                   # Their record type will be set to 'HETATM'.\n",
    "                            custom_terminal_oxygens = None,  # names of terminal oxygen atoms when different from ['O', 'OXT'], \n",
    "                                                             # provided as a list, e.g.: ['OC1', 'OC2']\n",
    "                            custom_resname_correction = None,   # dictionary of custom protein residue names not included in\n",
    "                                                                # the hard-coded TrIPP dictionary (tripp._correction_dictionary_.py). \n",
    "                                                                # Can be given as e.g. {'XXX':'ASP'}, where 'XXX' is the residue\n",
    "                                                                # name in the PDB file and 'ASP' is the corresponding\n",
    "                                                                # PROPKA name.\n",
    "                            cpu_core_number = -1)   # number of CPU cores. Set to -1 to use all available cores.\n",
    "    \n",
    "    TrIPP_Traj.run(extract_buriedness_data = True,   # Set to True to save also the buriedness values, \n",
    "                                                     # otherwise only pKa values are saved. \n",
    "                   chain = chain_ID,   # PROPKA will calculate the pKa values for residues in this chain. \n",
    "                   mutation = None,   # Set to None to run PROPKA on the original residues (no pseudo-mutations).\n",
    "                                      # See Section 4 to run pseudo-mutations.\n",
    "                   disulphide_bond_detection = True,   # If set to True, pka and buriedness values for cysteines \n",
    "                                                       # forming a disulphide bond will not be saved in the CSV files.\n",
    "                   optargs = [])  # optargs for PROPKA.run.single()\n",
    "    print('---------------------------------------------------------------------------------')"
   ]
  },
  {
   "cell_type": "markdown",
   "metadata": {},
   "source": [
    "The distribution of the p*K*<sub>a</sub> values for each ionisable residue can be visualized by running the following cell. Heatmaps of the distributions are shown with a colour gradient (blue), while a dotted red line indicates the model p*K*<sub>a</sub> value for each residue type (*** to be changed: add link to the list of PROPKA model values). Note that N+ and C- correspond to the amino and carboxyl groups at the N- and C-terminus, respectively."
   ]
  },
  {
   "cell_type": "code",
   "execution_count": null,
   "metadata": {},
   "outputs": [],
   "source": [
    "fig, ax = plt.subplots(1, ntraj, figsize = (4 * ntraj, 6), sharex = True, sharey = True) \n",
    "\n",
    "#Plot histogram showing the pKa values\n",
    "for idx in range(ntraj):\n",
    "    df_md = pd.read_csv(f'{output_directories[idx]}/{output_prefix[idx]}_pka.csv') \n",
    "    df_melt = df_md.melt(id_vars = 'Time [ps]', var_name = 'Residues', value_name = 'pKa value') \n",
    "    sns.histplot(data=df_melt, x = 'pKa value', y = 'Residues', ax = ax[idx], binwidth = 0.1)\n",
    "    ax[idx].set(xlabel = r'pK$_{\\rm a}$')\n",
    "    ax[idx].set_title(f\"{trajectory_files[idx].split('/')[-1].split('.')[0]}\")\n",
    "    #Adding model pKa value to each row\n",
    "    for ytick, residue in enumerate([i[:3] for i in df_melt['Residues'].unique()]):\n",
    "        if 'N+' in residue:\n",
    "            ax[idx].vlines(model_pka_values['NTR'], ytick-0.5, ytick+0.5, colors = 'red', linestyles = 'dotted')\n",
    "        elif 'C-' in residue:\n",
    "            ax[idx].vlines(model_pka_values['CTR'], ytick-0.5, ytick+0.5, colors = 'red', linestyles = 'dotted')\n",
    "        else:\n",
    "            ax[idx].vlines(model_pka_values[residue], ytick-0.5, ytick+0.5, colors = 'red', linestyles = 'dotted')\n",
    "    ax[idx].legend(['Model pKa'])\n",
    "plt.show()"
   ]
  },
  {
   "cell_type": "markdown",
   "metadata": {},
   "source": [
    "The acidic residues ASP52 and GLU35 are of particular interest since they show an upshift of their p*K*<sub>a</sub> values towards physiological pH, which means that an increase of their p*K*<sub>a</sub> due to the changes in the local environement would change their favoured protonation state."
   ]
  },
  {
   "cell_type": "markdown",
   "metadata": {},
   "source": [
    "TrIPP can also calculate the p*K*<sub>a</sub> deviation from the PROPKA model value for each ionisable residue and save it to a CSV file using the `calculate_difference_to_model` function. Running the cell below creates the following files:\n",
    "\n",
    "* **output/1AKI_md1_300ns/1AKI_md1_300ns_difference_to_model.csv**: csv file with the time (ps) in the first column + p*K*<sub>a</sub> deviation from model values for the ionisable residues calculated during the 1AKI_md1_300ns.xtc trajectory (1 column for each residue)\n",
    "\n",
    "plus an equivalent file for the second trajectory (1AKI_md2_300ns.xtc)."
   ]
  },
  {
   "cell_type": "code",
   "execution_count": null,
   "metadata": {},
   "outputs": [],
   "source": [
    "for idx in range(ntraj):\n",
    "    calculate_difference_to_model(output_directory = output_directories[idx],\n",
    "                                  output_prefix = output_prefix[idx])"
   ]
  },
  {
   "cell_type": "markdown",
   "metadata": {},
   "source": [
    "The corresponding distributions can be visualised as above by running the following cell:"
   ]
  },
  {
   "cell_type": "code",
   "execution_count": null,
   "metadata": {},
   "outputs": [],
   "source": [
    "fig, ax = plt.subplots(1, ntraj, figsize = (4 * ntraj, 6), sharex = True, sharey = True) \n",
    "\n",
    "#Plot histogram showing the deviation from the model pKa values \n",
    "for idx in range(ntraj):\n",
    "    df_md = pd.read_csv(f'{output_directories[idx]}/{output_prefix[idx]}_difference_to_model.csv') \n",
    "    df_melt = df_md.melt(id_vars = 'Time [ps]', var_name = 'Residues', value_name = 'pKa value deviation') \n",
    "    sns.histplot(data = df_melt, x = 'pKa value deviation', y = 'Residues', ax = ax[idx], binwidth = 0.1)\n",
    "    ax[idx].set(xlabel = r'pK$_{\\rm a}$ deviation')\n",
    "    ax[idx].set_title(f\"{trajectory_files[idx].split('/')[-1].split('.')[0]}\")\n",
    "plt.show()"
   ]
  },
  {
   "cell_type": "markdown",
   "metadata": {},
   "source": [
    "# 2. Visualizing with PyMOL"
   ]
  },
  {
   "cell_type": "markdown",
   "metadata": {},
   "source": [
    "The `Visualization` class in TrIPP allows p*K*<sub>a</sub> values to be colour mapped onto a structure provided by the user. Using this class requires specifying the path to a local PyMOL exectuable in the user-defined variables section below.\n",
    "\n",
    "There are different options for the p*K*<sub>a</sub> values to be mapped, which can be specified with the `coloring_method` argument of `gen_pse()`:\n",
    "\n",
    "* **'mean'**: the mean p*K*<sub>a</sub> value is mapped on each ionisable residue. Mean values are calculated over all the p*K*<sub>a</sub> files specified through the `pka_file` argument of `Visualisation`.\n",
    "\n",
    "* **'difference_to_model_value'**: the difference between the mean and the model p*K*<sub>a</sub> value is mapped on each ionisable residue. Mean values are calculated over all the p*K*<sub>a</sub> files specified through the `pka_file` argument of `Visualisation`.\n",
    "\n",
    "* **'correlation'**: the coupling between p*K*<sub>a</sub> and collective motions in the protein is mapped on each ionisable residue. This option requires providing an additional file (see Part 5). \n",
    "\n",
    "* **an integer or float**: if the timestep of a specific frame is given, the p*K*<sub>a</sub> value calculated for that frame is mapped on each ionisable residue."
   ]
  },
  {
   "cell_type": "markdown",
   "metadata": {},
   "source": [
    "Running the cell below generates the following files:\n",
    "\n",
    "* **output/1AKI_md_all_300ns_pka_mean.pse**: PyMOL session for the mapping of mean p*K*<sub>a</sub> values\n",
    "* **output/1AKI_md_all_300ns_pka_mean.pdb**: reference PDB file with mean p*K*<sub>a</sub> values in the B-factor field\n",
    "* **output/1AKI_md_all_300ns_pka_difference_to_model_value.pse**: PyMOL session for the mapping of the difference between mean and model p*K*<sub>a</sub> values\n",
    "* **output/A1AKI_md_all_300ns_pka_difference_to_model_value.pdb** reference PDB file with the difference between mean and model p*K*<sub>a</sub> values in the B-factor field"
   ]
  },
  {
   "cell_type": "code",
   "execution_count": null,
   "metadata": {},
   "outputs": [],
   "source": [
    "# Start of user-defined variables -------------------------\n",
    "\n",
    "pymol_path = '/opt/homebrew/bin/pymol' # path to PyMOL executable\n",
    "pymol_output_prefix = '1AKI_md_all_300ns_pka' # prefix of output file names for the PyMOL analysis\n",
    "\n",
    "# End of user-defined variables -------------------------\n",
    "\n",
    "TrIPP_Vis = Visualization(topology_file = topology_file, \n",
    "                          pka_file = pka_files) # filename(s) (including the path), can be str or list of str\n",
    "\n",
    "TrIPP_Vis.gen_pse(pymol_path = pymol_path,\n",
    "                  output_directory = output_dir,\n",
    "                  output_prefix = pymol_output_prefix,\n",
    "                  chain = 'A',\n",
    "                  coloring_method = 'mean',  # generates PyMOL session with the mean pKa \n",
    "                  lower_limit = 0,   # Minimum of the colour scale\n",
    "                  upper_limit = 14,  # Maximum of the colour scale\n",
    "                  color_palette = 'red_white_blue')  # see https://pymolwiki.org/index.php/Spectrum for available palettes\n",
    "\n",
    "TrIPP_Vis = Visualization(topology_file = topology_file, \n",
    "                          pka_file = pka_files) # filename(s) (including the path), can be str or list of str\n",
    "\n",
    "TrIPP_Vis.gen_pse(pymol_path = pymol_path,\n",
    "                  output_directory = output_dir,\n",
    "                  output_prefix = pymol_output_prefix,\n",
    "                  chain = 'A',\n",
    "                  coloring_method = 'difference_to_model_value',  # generates PyMOL session with the difference between the mean and the model pKa \n",
    "                  lower_limit = -3,  # Minimum of the colour scale\n",
    "                  upper_limit = 2,   # Maximum of the colour scale\n",
    "                  color_palette = 'red_white_blue')  # see https://pymolwiki.org/index.php/Spectrum for available palettes"
   ]
  },
  {
   "cell_type": "markdown",
   "metadata": {},
   "source": [
    "Below you can see snapshots of the mapping of mean p*K*<sub>a</sub> values (left) and of the difference between mean and model p*K*<sub>a</sub> values (right) for HEWL:"
   ]
  },
  {
   "cell_type": "markdown",
   "metadata": {},
   "source": [
    " \n",
    " \n",
    " <img src=\"data/Mean_pka.png\" width=\"400\"/>      <img src=\"data/Difference_to_model_pka.png\" width=\"400\"/>\n",
    "\n",
    "            Mean pKa values                              Difference between mean pKa and model values      "
   ]
  },
  {
   "cell_type": "markdown",
   "metadata": {},
   "source": [
    "# 3. Clustering with p*K*<sub>a</sub> values"
   ]
  },
  {
   "cell_type": "markdown",
   "metadata": {},
   "source": [
    "It is useful to have a method to extract structures that are representative of the different environments around ionisable residues observed during the trajectory. \n",
    "\n",
    "The `Clustering` class in TrIPP can be used to cluster the frames using one of the following methods:\n",
    "\n",
    "* **K-medoids** (implemented as `kmedoid` method of the `Clustering` class).\n",
    "* A **greedy** method as described in Micheletti et al. PROTEINS: Structure, Function, and Genetics 40:662– 674 (2000)(implemented as `greedy`).\n",
    "* **DBSCAN** (implemented as `dbscan`).\n",
    "\n",
    "The features used to describe the frames in the clustering include:\n",
    "\n",
    "* The p*K*<sub>a</sub> values of the residues of interest.\n",
    "* (Optional) All the possible pairs of distances between charge centers in those residues (`include_distances` = True).\n",
    "* (Optional) The buriedness values of the residues of interest (`include_buriedness` = True)\n",
    "\n",
    "The frame features are preprocessed (Z-score normalisation) before clustering. It is also possible to run a PCA on the features before the clustering is performed (`dimensionality_reduction` = True). \n",
    "\n",
    "See the main text of the TrIPP manuscript for more details on the clustering implementation."
   ]
  },
  {
   "cell_type": "code",
   "execution_count": null,
   "metadata": {},
   "outputs": [],
   "source": [
    "# Start of user-defined variables -------------------------\n",
    "\n",
    "resid_clust_list = ['GLU35', 'ASP52'] # list of residues to be used in the clustering (same residue name and ID as in the reference PDB file)\n",
    "clustering_output_prefix = '1AKI_md_all_300ns' # prefix of output files from the clustering analysis\n",
    "\n",
    "# End of user-defined variables -------------------------\n",
    "\n",
    "resnum_clust_list = [ x[-(len(x) - 3):] for x in resid_clust_list]\n",
    "resname_clust_list = [ x[0:3] for x in resid_clust_list] "
   ]
  },
  {
   "cell_type": "markdown",
   "metadata": {},
   "source": [
    "The code in the cell below clusters frames from all the input trajectories using K-medoids and the p*K*<sub>a</sub> values of selected residues as features. The `automatic` argument of `kmedoids` is set to True, so an automatic searching of the optimal hyperparameter values for that method (number of output clusters) is carried out.   \n",
    "\n",
    "Running the cell produces the following files:\n",
    "\n",
    "* **output/1AKI_md_all_300ns_KMedoids.log**: a log file containing the clustering details.\n",
    "* **output/1AKI_md_all_300ns_KMedoids_C0.pdb** and **1AKI_md_all_300ns_KMedoids_C1.pdb**: PDB files of the representative structures of the two clusters found in the optimal clustering run (number of output clusters = 2).\n",
    "* **output/1AKI_md_all_300ns_KMedoids_cluster.csv**: a CSV file containing the cluster label for each frame (optimal clustering), together with the p*K*<sub>a</sub> values of the selected residues."
   ]
  },
  {
   "cell_type": "code",
   "execution_count": null,
   "metadata": {},
   "outputs": [],
   "source": [
    "TrIPP_Clust = Clustering(topology_file = topology_file, \n",
    "                         trajectory_file = trajectory_dict,  # Dictionary where the key is the name of the trajectory, and the value is the path to that trajectory\n",
    "                         pka_file = pka_files,  # List of paths to pKa files\n",
    "                         buriedness_file = buriedness_files,\n",
    "                         residues = resnum_clust_list,  # List of residues of interest (PDB resid)\n",
    "                         output_directory = output_dir,\n",
    "                         output_prefix = clustering_output_prefix, \n",
    "                         include_distances = False,  # If set to true, the feature matrix will include the euclidean distance between all the possible pairs of charge centres in the selected group of residues\n",
    "                         include_buriedness = False,  # If set to true, the feature matrix will include the buriedness of the selected residues\n",
    "                         dimensionality_reduction = False)  # If set to true, a principal component analysis is performed on the feature matrix before clustering. Principal components accounting for up to 90% of the total variance are retained.\n",
    "\n",
    "TrIPP_Clust.kmedoids(automatic = True,  # automatic searching for the optimal hyperparameters of kmedoids (evaluated by Silhouette score).\n",
    "                     max_clusters = 20)  # the maximum number of clusters for automatic searching."
   ]
  },
  {
   "cell_type": "code",
   "execution_count": null,
   "metadata": {},
   "outputs": [],
   "source": [
    "pairs = list(combinations(range(len(resid_clust_list)), 2))\n",
    "npairs = len(pairs)\n",
    "\n",
    "fig, ax = plt.subplots(1, npairs, figsize = (npairs * 5, 5))\n",
    "ax = np.atleast_1d(ax)\n",
    "\n",
    "for i, idx in enumerate(pairs):\n",
    "    xlabel = resid_clust_list[idx[0]]\n",
    "    ylabel = resid_clust_list[idx[1]]\n",
    "    df_cluster = pd.read_csv(f'{output_dir}/{clustering_output_prefix}_KMedoids_cluster.csv')\n",
    "    sns.scatterplot(data = df_cluster, x = xlabel, y = ylabel, s = 2, hue = 'Clusters', palette = 'tab10', ax = ax[i])\n",
    "    ax[i].set(xlabel = xlabel + r' pK$_{\\rm a}$')\n",
    "    ax[i].set(ylabel = ylabel + r' pK$_{\\rm a}$')\n",
    "    ax[i].legend(title = 'Cluster ID')\n",
    "plt.show()"
   ]
  },
  {
   "cell_type": "markdown",
   "metadata": {},
   "source": [
    "Looking at the structures of cluster representatives (centroids) saved in the PDB files helps explaining the pKa differences between the two clusters.\n",
    "\n",
    "ASP52 forms a hydrogen bond with ASN44 in cluster 0 but not in cluster 1, which explains why ASP52 p*K*<sub>a</sub> tends to be lower in the first cluster (blue in the plot) compared to the second (orange).\n",
    "\n",
    "There is a clear difference in the p*K*<sub>a</sub> of GLU35 between the two clusters. This is explained by GLU35 forming a hydrogen bond with ARG114 in cluster 1, which leads to a decrease of GLU35 p*K*<sub>a</sub> compared to cluster 0. The formation of this hydrogen bond is favoured by a conformational change of the backbone region around GLU35, which is stabilised by an hydrogen bond interactions between ASN44 and the backbone of GLU35. The competition between the ASP52-ASN44 and GLU35-ASN44 interactions explains the correlation between GLU35 and ASP52 p*K*<sub>a</sub> values during the MD trajectories.  "
   ]
  },
  {
   "cell_type": "markdown",
   "metadata": {},
   "source": [
    " \n",
    " <img src = \"data/Kmedoids_C0.png\" width = \"400\"/>      <img src = \"data/Kmedoids_C1.png\" width = \"370\"/>\n",
    "   "
   ]
  },
  {
   "cell_type": "markdown",
   "metadata": {},
   "source": [
    "# 4. _Pseudomutations_ in TrIPP \n",
    "\n",
    "When running TrIPP, a `mutation` argument can be used to mutate a given residue to alanine before the p*K*<sub>a</sub> calculations are carried out. Comparing these values with the ones from the original frames ('wild type') provides a direct measure of the contribution of the mutated side chain to the p*K*<sub>a</sub> of the ionisable residues nearby. We called these mutations _pseudomutations_ since for each frame, only the selected residue is changed, while the rest of the protein is left unchanged (no new MD simulations are run to model how the structure of the protein changes as a result of the mutation).\n",
    "\n",
    "In the following example, we run a total of four _pseudomutations_ (one at a time) on the two trajectories: \n",
    "- ASN44ALA\n",
    "- ASN46ALA\n",
    "- ASN59ALA\n",
    "- ARG114ALA\n",
    "\n",
    "\n",
    "**The running time of the following cell on a Macbook Pro (M2 Pro) using 12 cores is ~ 5 minutes.**\n",
    "\n",
    "Running the cell produces as many new folders in the `output_dir` as the number of _pseudomutations_, each containing a log and a pka file (see Part 1 for a description of their format).\n",
    "\n",
    "After the calculation is complete, the p*K*<sub>a</sub> distributions of the residues listed in `residue_pKa_list` are plotted to compare their values in the wild type and in the pseudomutated trajectories."
   ]
  },
  {
   "cell_type": "code",
   "execution_count": null,
   "metadata": {},
   "outputs": [],
   "source": [
    "# Start of user-defined variables -------------------------\n",
    "residue_mutation_list = ['ASN44', 'ASN46', 'ASN59', 'ARG114'] # list of residues to be mutated (same residue name and ID as in the reference PDB file)\n",
    "residue_pKa_list = ['ASP52', 'GLU35'] # the pKa of these residues will be plotted before ('Wild Type') and after the pseudomutation is applied \n",
    "\n",
    "# End of user-defined variables -------------------------\n",
    "\n",
    "mutation_list = [x + 'ALA' for x in residue_mutation_list]\n",
    "mutation_output_directories = [ [output_dir + '/' + x + '_' + y for y in mutation_list] for x in traj_prefix_list ]\n",
    "mutation_output_prefix = [ [ x + '_' + y for y in mutation_list] for x in traj_prefix_list ]"
   ]
  },
  {
   "cell_type": "code",
   "execution_count": null,
   "metadata": {},
   "outputs": [],
   "source": [
    "for idx in range(len(trajectory_files)):\n",
    "    for mtype_idx, mutation in enumerate(mutation_list): \n",
    "        print(f'Processing pseudomutation resid {mutation} in {trajectory_files[idx]}.')\n",
    "        \n",
    "        TrIPP_Traj = Trajectory(trajectory_file = trajectory_files[idx], \n",
    "                                topology_file = topology_file,\n",
    "                                output_directory = mutation_output_directories[idx][mtype_idx],\n",
    "                                output_prefix = mutation_output_prefix[idx][mtype_idx],\n",
    "                                cpu_core_number = -1) \n",
    "        \n",
    "        TrIPP_Traj.run(extract_buriedness_data = False,\n",
    "                        chain = chain_ID,\n",
    "                        mutation = int(re.search(r\"[A-Za-z]+(\\d+)[A-Za-z]+\", mutation).group(1)),  # *** To be checked: this can be a single or double mutation. In the case of double mutation, a list of int can be provided.\n",
    "                        disulphide_bond_detection = True,\n",
    "                        optargs = [])\n",
    "        print('---------------------------------------------------------------------------------')"
   ]
  },
  {
   "cell_type": "code",
   "execution_count": null,
   "metadata": {},
   "outputs": [],
   "source": [
    "combined_df = []\n",
    "for idx in range(len(trajectory_files)):\n",
    "    pka_file = pka_files[idx]\n",
    "    df = pd.read_csv(pka_file)\n",
    "    df = df[['Time [ps]'] + residue_pKa_list]\n",
    "    df['Run'] = f\"{trajectory_files[idx].split('/')[-1].split('.')[0]}\"\n",
    "    df['System'] = 'Wild Type'\n",
    "    combined_df.append(df)\n",
    "    for mtype_idx, mutation_label in enumerate(mutation_list):\n",
    "        mutation_pka_file = mutation_output_directories[idx][mtype_idx] + '/' + mutation_output_prefix[idx][mtype_idx] + '_pka.csv'\n",
    "        df = pd.read_csv(mutation_pka_file)\n",
    "        df = df[['Time [ps]'] + residue_pKa_list]\n",
    "        df['Run'] = f\"{trajectory_files[idx].split('/')[-1].split('.')[0]}\"\n",
    "        df['System'] = mutation_label\n",
    "        combined_df.append(df)\n",
    "combined_df = pd.concat(combined_df)\n",
    "\n",
    "fig, ax = plt.subplots(1, len(residue_pKa_list), figsize = (len(residue_pKa_list) * 5,5)) \n",
    "for index, residue in enumerate(residue_pKa_list): \n",
    "    sns.boxplot(data = combined_df, x = 'Run', y = residue, hue = 'System', ax = ax[index]) \n",
    "    ax[index].set_ylabel(residue + r' pK$_{\\rm a}$')\n",
    "    ax[index].set_ylim([0, 14])\n",
    "    ax[index].legend(title = 'System')\n",
    "    for label in ax[index].get_xticklabels():\n",
    "        label.set_rotation(45)\n",
    "plt.show()"
   ]
  },
  {
   "cell_type": "markdown",
   "metadata": {},
   "source": [
    "The previos cell generates two sets of boxplots. The boxplots on the left show that for both trajectories, the p*K*<sub>a</sub> distribution of ASP52 is affected by _pseudomutation_ of the three asparagines but not of the arginine residue. _Pseudomutation_ of ASN44 seems to have a slightly reduced impact compared to the other ASN residues, which can be explained by the observation that this residue does not always form interactions with ASP52 (as also shown by the cluster analysis in Part 3). The p*K*<sub>a</sub> distribution of GLU35 (boxplots on the right) is only affected by ARG114, as expected since GLU35 interacts directly only with ARG114."
   ]
  },
  {
   "cell_type": "markdown",
   "metadata": {},
   "source": [
    "# 5. Coupling between p*K*<sub>a</sub> changes and collective motions"
   ]
  },
  {
   "cell_type": "markdown",
   "metadata": {},
   "source": [
    "Calculating the correlation between p*K*<sub>a</sub> values and geometric variables descrbing the collective motions of the protein might be useful to identify residues whose p*K*<sub>a</sub> changes are somehow coupled with global conformational changes. Here we use the trajectory projection on a Principal Component (PC1 from 1AKI_md1_300ns), but in principle other variables could be used.\n",
    "\n",
    "The following cell calculates the correlation coefficient between the p*K*<sub>a</sub> values of each ionisabile residue in the file **1AKI_md1_300ns_pka.csv** (generated in Part 1) and the PC1 projection values in the file **1AKI_md1_300ns_pc1.csv**. Please note the latter needs to be provided by the user as it is not generated in any part of this tutorial. The file needs to be located in the `input_dir` folder defined in Part 0 and contains the timestamp (first column) and the projection value on PC1 (second column) for each frame in the 1AKI_md1_300ns trajectory.\n",
    "\n",
    "Running the cell generates the following file:\n",
    "\n",
    "* **output/1AKI_md1_300ns/1AKI_md1_300ns_pc1_1AKI_md1_300ns_pka_correlation.csv**"
   ]
  },
  {
   "cell_type": "code",
   "execution_count": null,
   "metadata": {},
   "outputs": [],
   "source": [
    "# Start of user-defined variables -------------------------\n",
    "\n",
    "PC_pka_pairs = {\n",
    "    '1AKI_md1_300ns_pc1.csv':'1AKI_md1_300ns_pka.csv'\n",
    "    } # Dictionary of PC projections, pKa file pairs: correlation coefficients will be calculated\n",
    "      # between PC and pKa values in each pair of files. The files with the PC projection values need to be \n",
    "      # generated separately and moved to the `input_dir` folder defined in Part 0. The files with \n",
    "      # the pKa values have been generated in Part 1 and are stored in the `output_dir` folder, the user\n",
    "      # just needs to make sure that the correct name for those files is used in this dictionary.\n",
    "\n",
    "# End of user-defined variables -------------------------\n",
    "\n",
    "npairs = len(PC_pka_pairs)\n",
    "unrolled_PC = [x for x in PC_pka_pairs.keys()]\n",
    "unrolled_pka = [x for x in PC_pka_pairs.values()]\n",
    "\n",
    "output_prefix_list = [unrolled_PC[i].split('.')[0] + '_' + unrolled_pka[i].split('.')[0] for i in range(npairs)]"
   ]
  },
  {
   "cell_type": "code",
   "execution_count": null,
   "metadata": {},
   "outputs": [],
   "source": [
    "for idx in range(npairs):\n",
    "    output_dir_idx = output_dir + \"/\" + re.search(r\"(.+)_pka\", unrolled_pka[idx]).group(1)\n",
    "    PCProjectionScreening(output_directory = output_dir_idx,\n",
    "                          output_prefix = output_prefix_list[idx] + '_correlation',\n",
    "                          pka_file = output_dir_idx + \"/\" + unrolled_pka[idx],  # Path+name of the CSV file with pKa values\n",
    "                          projection_file = input_dir + \"/\" + unrolled_PC[idx],  # Path+name of the CSV file with PC projection values\n",
    "                          method = 'Pearson')  # Correlation method, can be 'Pearson' or 'Spearman'"
   ]
  },
  {
   "cell_type": "markdown",
   "metadata": {},
   "source": [
    "If a working installation of PyMOL is available, correlation values can be colour mapped onto the structure using our `Visualization` class and the `correlation_file` argument. A `correlation_threshold` argument can be also used to show only residues with correlation above/below a given value.\n",
    "\n",
    "Running the following cell requires having defined the `pymol_path` variable in Part 2. It will generate the following files:\n",
    "\n",
    "* **output/1AKI_md1_300ns/1AKI_md1_300ns_pc1_1AKI_md1_300ns_pka_correlation.pdb**: PDB file with the reference structure and the correlation values stored in the B-factor column (ionisable residues only) \n",
    "* **output/1AKI_md1_300ns/1AKI_md1_300ns_pc1_1AKI_md1_300ns_pka_correlation.pse**: PyMOL session"
   ]
  },
  {
   "cell_type": "code",
   "execution_count": null,
   "metadata": {},
   "outputs": [],
   "source": [
    "for idx in range(npairs):\n",
    "    output_dir_idx = output_dir + '/' + re.search(r'(.+)_pka', unrolled_pka[idx]).group(1)\n",
    "    Corr_Vis = Visualization(topology_file = topology_file,\n",
    "                             correlation_file = output_dir_idx + '/' + output_prefix_list[idx] + '_correlation.csv')  # Path+name of the CSV file \n",
    "                                                                                                          # with the PC vs pKa correlation \n",
    "                                                                                                          # coefficients\n",
    "\n",
    "    Corr_Vis.gen_pse(pymol_path = pymol_path, # path to PyMOL executable\n",
    "                     output_directory = output_dir_idx,\n",
    "                     output_prefix = output_prefix_list[idx],\n",
    "                     coloring_method = 'correlation',  # Residues will be coloured according to the PC vs pKa correlation coefficient\n",
    "                     lower_limit = -1,  # Minimum of the colour scale\n",
    "                     upper_limit = 1,   # Maximum of the colour scale\n",
    "                     correlation_threshold = 0.5,  # Show only residues with absolute correlation coefficient above this threshold\n",
    "                     color_palette = 'red_white_blue')"
   ]
  },
  {
   "cell_type": "markdown",
   "metadata": {},
   "source": [
    " <img src=\"data/PC_projection_correlation.png\" width=\"400\"/> "
   ]
  },
  {
   "cell_type": "markdown",
   "metadata": {},
   "source": [
    "The figure above has been created using the PyMOL session file generated in the previous cell, which shows a strong coupling between the dominant collective motion observed in the first trajectory and the p*K*<sub>a</sub> values of our three residues GLU35, ASP52 and ARG114.\n",
    "\n",
    "Although this analysis is presented at the end of the tutorial, for new systems without prior knowledge of key residues, it may be useful to perform it early to identify residues whose p*K*<sub>a</sub> values could be correlated with functional motions."
   ]
  }
 ],
 "metadata": {
  "kernelspec": {
   "display_name": "Python 3 (ipykernel)",
   "language": "python",
   "name": "python3"
  },
  "language_info": {
   "codemirror_mode": {
    "name": "ipython",
    "version": 3
   },
   "file_extension": ".py",
   "mimetype": "text/x-python",
   "name": "python",
   "nbconvert_exporter": "python",
   "pygments_lexer": "ipython3",
   "version": "3.9.18"
  }
 },
 "nbformat": 4,
 "nbformat_minor": 4
}
