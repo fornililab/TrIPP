{
 "cells": [
  {
   "attachments": {},
   "cell_type": "markdown",
   "metadata": {},
   "source": [
    "# TrIPP tutorial - Lysozyme test case\n",
    "\n",
    "In the following example we will use TrIPP to monitor and analyse the p*K*<sub>a</sub> of ionisable residues during Molecular Dynamics (MD) simulations of the hen egg-white lysozyme (HEWL; PDB ID: 1AKI). The input files to run this tutorial (provided in the *data* folder) are:\n",
    "\n",
    "* **1AKI_minstr.pdb**: energy minimised structure in PDB format (1960 atoms)\n",
    "* **1AKI_md1_300ns.xtc** and **1AKI_md2_300ns.xtc**: trajectory files of two 308.5-ns replicas in xtc format (frames are sampled every 100 ps, water molecules and counterions have been removed, the system is composed of a single-chain protein with no ligand)\n",
    "* **1AKI_md1_pc1.csv**: projection of 1AKI_md1_300ns.xtc onto its first principal component (PC1) - only required for Part 5\n",
    "\n",
    "The protonation state of ionisable residues during the MD simulations was determined using PROPKA (version 3.4.0) on the initial structure (pH = 7.0).\n",
    "\n",
    "**Running time:** running all the parts of this tutorial on a Macbook Pro (M2 Pro) using 12 cores requires about 6 minutes."
   ]
  },
  {
   "cell_type": "markdown",
   "metadata": {},
   "source": [
<<<<<<< HEAD
    "**Important note on PROPKA** \n",
    "\n",
    "PROPKA has some requirements on the format of the input PDB file, in particular:\n",
    "\n",
    "1. PROPKA only recognizes specific residue names (for the standard 20 amino acids).\n",
    "2. The names of the two C-terminal oxygen atoms need to be O and OXT.\n",
    "3. The record type of non-protein atoms (e.g., a ligand) needs to be 'HETATM'.\n",
    "\n",
    "TrIPP has a hard-coded dictionary (tripp.\\_correction_dictionary_.py) that converts a list of standard residue names recognised by MDanalysis (https://userguide.mdanalysis.org/stable/standard_selections.html) to names compatible with PROPKA. A dictionary is also used to convert C-terminal oxygen atom names used in the GROMOS, AMBER or CHARMM force fields to the PROPKA format. \n",
    "\n",
    "#### *** to be changed, but it's unclear to me what it means!\n",
    "Molecules that are not recognized by MDAnalysis (not protein) could still be a residue or non protein molecules. Thus, we have also implemented a check for this so that user will be warned to modify it accordingly."
=======
    "# TrIPP tutorial - Lysozyme test case\n",
    "In the following example we will use TrIPP to monitor and analyse the pKa of ionisable residues during Molecular Dynamics (MD) simulations of the hen egg-white lysozyme (HEWL; PDB ID: 1AKI). The input files to run this tutorial (provided in the data folder) are:\n",
    "\n",
    "- 1AKI_minstr.pdb: energy minimised structure in PDB format\n",
    "- 1AKI_md1_300ns.xtc and 1AKI_md2_300ns.xtc: trajectory files of two 300-ns replicas in xtc format (frames are sampled every 100 ps, water molecules and counterions have been removed)\n",
    "\n",
    "The protonation state of ionisable residues during the MD simulations was determined using PROPKA (version 3.4.0) on the initial structure (pH = 7.0)."
>>>>>>> main
   ]
  },
  {
   "cell_type": "markdown",
   "metadata": {},
   "source": [
<<<<<<< HEAD
    "# 0. Libraries and user-defined variables "
   ]
  },
  {
   "cell_type": "markdown",
   "metadata": {},
   "source": [
    "Let's first import the required libraries:"
=======
    "# 0. Libraries and user-defined variables"
>>>>>>> main
   ]
  },
  {
   "cell_type": "code",
   "execution_count": null,
   "metadata": {},
   "outputs": [],
   "source": [
    "from tripp import Trajectory\n",
    "from tripp.analysis import calculate_difference_to_model\n",
    "from tripp.analysis import PCProjectionScreening  \n",
    "import pandas as pd \n",
    "import matplotlib.pyplot as plt \n",
    "import seaborn as sns\n",
    "import numpy as np\n",
    "import re\n",
    "from itertools import combinations\n",
    "from tripp._model_pka_values_ import model_pka_values\n",
<<<<<<< HEAD
    "from tripp import Visualization  # PyMOL installation required, user needs to specify the path to the PyMOL executable (see Part 2)\n",
    "from tripp import Clustering "
=======
    "from tripp import Visualization  # PyMOL application required, user needs to specify the path to PyMOL executable\n",
    "from tripp import Clustering\n",
    "import os"
>>>>>>> main
   ]
  },
  {
   "cell_type": "markdown",
   "metadata": {},
   "source": [
    "To run this tutorial on your own trajectories, you will need to change the value of some user-defined variables. Please note that individual parts might have additional user-defined variables. **Important:** while in principle MDAnalysis supports different trajectory and topology formats, we have tested our tool only on xtc files generated with GROMACS. "
   ]
  },
  {
   "cell_type": "code",
   "execution_count": null,
   "metadata": {},
   "outputs": [],
   "source": [
<<<<<<< HEAD
    "# Start of user-defined variables -------------------------\n",
    "\n",
    "topology = '1AKI_minstr.pdb'  # name of the reference PDB file used to define the topology of the system\n",
    "input_dir = 'data'            # name of the folder containing the input files\n",
    "traj_prefix_list = ['1AKI_md1_300ns', '1AKI_md2_300ns'] # list of input trajectories (without the extension)\n",
    "traj_format = 'xtc'           # extension of trajectory input files (only xtc files have been tested)\n",
    "output_dir = 'output'         # name of the folder where all output files and folders will be saved\n",
    "chain_ID = 'A'                # ***IM mod***\n",
    "                              # TrIPP will save the pKa values for residues in this chain. \n",
    "                              # Other chains will be taken into account in the PROPKA calculation \n",
    "                              # (so they can affect the pKa values of ionisable residues in the selected chain).    \n",
    "                              # If the reference PDB file does not have chain IDs, the atoms of the whole system\n",
    "                              # will be default to chain A.\n",
    "                              # ***IM mod***\n",
    "\n",
    "# End of user-defined variables -------------------------\n",
    "\n",
    "ntraj = len(traj_prefix_list)\n",
    "topology_file = input_dir + '/' + topology\n",
    "trajectory_files = [input_dir + '/' + x + '.' + traj_format for x in traj_prefix_list]\n",
    "\n",
    "pka_files = [output_dir + '/' + x + '/' + x + '_pka.csv' for x in traj_prefix_list]\n",
    "buriedness_files = [output_dir + '/' + x + '/' + x + '_buriedness.csv' for x in traj_prefix_list]\n",
    "trajectory_dict = {x: input_dir + '/' + x + '.' + traj_format for x in traj_prefix_list}\n",
    "\n",
    "output_directories = [output_dir + '/' + x for x in traj_prefix_list]\n",
    "output_prefix = traj_prefix_list"
=======
    "# -------------------- Start of user-defined variables --------------------\n",
    "input_dir = 'data'\n",
    "topology = '1AKI_minstr.pdb'\n",
    "trajectory_list = ['1AKI_md1_300ns.xtc', '1AKI_md2_300ns.xtc']\n",
    "output_dir = 'output'\n",
    "\n",
    "pymol_path = '/Applications/PyMOL.app/Contents/MacOS/MacPyMOL'  # Path to PyMOL installation. Can comment out if Visualization class is not ran\n",
    "\n",
    "mutations = ['chainID A and resid 44',\n",
    "             'chainID A and resid 46',\n",
    "             'chainID A and resid 59',\n",
    "             'chainID A and resid 114']\n",
    "mutation_names = ['ASN44ALA', 'ASN46ALA', 'ASN59ALA', 'ARG114ALA']\n",
    "\n",
    "# Order for pKaCSV_list and ProjectionCSV_list have to be matched \n",
    "pKaCSV_list = ['1AKI_md1_pka_chainA', '1AKI_md2_pka_chainA']\n",
    "ProjectionCSV_list = ['1AKI_md1_pc1.csv','1AKI_md2_pc1.csv']\n",
    "CorrelationMethod = 'Pearson' \n",
    "\n",
    "Combined_output_prefix = 'All_md'\n",
    "# -------------------- End of user-defined variables -----------------------\n",
    "topology_file = f'{input_dir}/{topology}'\n",
    "trajectory_files = [f'{input_dir}/{trajectory}' for trajectory in trajectory_list]\n",
    "output_prefix_list = ['_'.join(trajectory_prefix.split('_')[:2]) for trajectory_prefix in trajectory_list]\n",
    "output_directories = [f'{output_dir}/{output_prefix}' for output_prefix in output_prefix_list]\n",
    "pka_files = [f'{output_directory}/{output_prefix}_pka_chainA.csv' for output_prefix, output_directory in zip(output_prefix_list, output_directories)]\n",
    "trajectory_dict={}\n",
    "for output_prefix, trajectory_file in zip(output_prefix_list, trajectory_files):\n",
    "    trajectory_dict[output_prefix] = trajectory_file\n",
    "if mutations:\n",
    "    mutation_prefix_list = [[f'{output}_{mutation_name}' for mutation_name in mutation_names] for output in output_prefix_list] \n",
    "    mutation_output_directories = [[f'{output_dir}/{mutation_prefix}' for mutation_prefix in i ]for i in mutation_prefix_list]\n",
    "    mutation_pka_files = [[f'{output_dir}/{mutation_prefix}/{mutation_prefix}_pka_chainA.csv' for mutation_prefix in i ] for i in mutation_prefix_list]\n",
    "if ProjectionCSV_list:\n",
    "    ProjectionCSV_prefix_list = [os.path.splitext(ProjectionCSV)[0] for ProjectionCSV in ProjectionCSV_list]\n",
    "    ProjectionCSV_list = [f'{input_dir}/{ProjectionCSV}' for ProjectionCSV in ProjectionCSV_list]\n",
    "    correlation_output_prefix_list = [f'{ProjectionCSV_prefix}_pka_{CorrelationMethod}' for ProjectionCSV_prefix in ProjectionCSV_prefix_list]"
>>>>>>> main
   ]
  },
  {
   "cell_type": "markdown",
   "metadata": {},
   "source": [
<<<<<<< HEAD
    "In the next sections, you will learn how to:\n",
    "1. Predict the p*K*<sub>a</sub> of ionisable residues for the entire trajectory and analyse their distributions.\n",
    "2. Colour the ionisable residues by their p*K*<sub>a</sub> values in a 3D representation of the protein. A PyMOL installation is required.\n",
    "3. Cluster the trajectory frames on the basis of the p*K*<sub>a</sub> values of selected residues and retrieve cluster representatives.\n",
    "4. Perform pseudo-mutations of selected residues to assess their contribution to the p*K*<sub>a</sub> of ionisable residues nearby.\n",
    "5. Detect correlations between pKa changes and collective motions."
=======
    "In the following sections, you will learn how to:\n",
    "1. Predict p*K*<sub>a</sub> of ionisable residues and analyze the distribution of the p*K*<sub>a</sub> values for the entire trajectory.\n",
    "2. Visualize the mean p*K*<sub>a</sub> and mean difference to the model p*K*<sub>a</sub> values. (PyMOL installation required)\n",
    "3. Clustering the p*K*<sub>a</sub> values of selected residues and retrieve cluster representatives.\n",
    "4. Mutating selected residue(s) in the exisiting trajectory and understand the contributions of the selected residue(s) to another residue of interest.\n",
    "5. Screen projections along a given principal component (collective motion) to identify correlation with all ionisable residues in the system."
>>>>>>> main
   ]
  },
  {
   "cell_type": "markdown",
   "metadata": {},
   "source": [
    "# 1. Trajectory p*K*<sub>a</sub> prediction"
   ]
  },
  {
   "cell_type": "markdown",
   "metadata": {},
   "source": [
    "`Trajectory` is the main class provided by TrIPP and it can be used to automatically run PROPKA predictions on all the frames of the input trajectory. The calculation is sped up by slicing the trajectory into different parts, which are processed in parallel. The p*K*<sub>a</sub> and (only if requested) buriedness values of each ionizable residue are saved into individual CSV files."
   ]
  },
  {
   "cell_type": "markdown",
   "metadata": {},
   "source": [
    "In the cell below, the `Trajectory` class is used to track the predicted p*K*<sub>a</sub> values of HEWL ionisable residues in two MD trajectories. **The running time on a Macbook Pro (M2 Pro) using 12 cores is ~ 1 minute**. A successful run of this cell will produce the following files:\n",
    "\n",
    "* **output/1AKI_md1_300ns/1AKI_md1_300ns.log**: log file with a summary of the settings, trajectory splits, run time and some statstics (Mean, Median and Standard Deviation of p*K*</sub>a</sub> values for each ionisable residue)\n",
    "* **output/1AKI_md1_300ns/1AKI_md1_300ns_pka.csv**: csv file with the time (ps) in the first column + pka values for the ionisable residues calculated during the trajectory (1 column for each residue) \n",
    "* **output/1AKI_md1_300ns/1AKI_md1_300ns_buriedness.csv**: csv file with the time (ps) in the first column + pka values for the ionisable residues calculated during the trajectory (1 column for each residue)\n",
    "\n",
<<<<<<< HEAD
    "plus equivalent folders and files for the second trajectory (1AKI_md2_300ns.xtc)."
=======
    "TrIPP has a hard-coded dictionary (tripp.\\_correction_dictionary_.py) that converts MDAnalysis recognizable resname to the corresponding resname compatible with PROPKA. Similarly, we have included the conversion of C-terminal oxygen atom names for GROMOS, AMBER, CHARMM forcefield. Molecules that is not recognized by MDAnalysis (not protein) could still be a residue or non protein molecules. Thus, we have also implemented a check for this so that user will be warned to modify it accordingly."
>>>>>>> main
   ]
  },
  {
   "cell_type": "markdown",
   "metadata": {},
   "source": [
    "**Note on 'Missing atoms' warning from PROPKA**: occasionally PROPKA might give a warning about \"Missing atoms or failed protonation for XXX -- please check the structure\", where XXX is an acidic or basic group of a residue as recognised by PROPKA. This is related to the use of PROPKA of pre-defined interaction atoms for these groups: https://propka.readthedocs.io/en/latest/_modules/propka/group.html. "
   ]
  },
  {
   "cell_type": "code",
<<<<<<< HEAD
   "execution_count": null,
   "metadata": {},
   "outputs": [],
=======
   "execution_count": 6,
   "metadata": {},
   "outputs": [
    {
     "name": "stdout",
     "output_type": "stream",
     "text": [
      "Processing data/1AKI_md1_300ns.xtc\n",
      "----------------------------------\n",
      "Processing data/1AKI_md2_300ns.xtc\n",
      "----------------------------------\n"
     ]
    }
   ],
>>>>>>> main
   "source": [
    "for idx in range(ntraj):\n",
    "    print(f'Processing {trajectory_files[idx]}')\n",
    "    TrIPP_Traj = Trajectory(topology_file = topology_file,\n",
    "                            trajectory_file = trajectory_files[idx],\n",
    "                            output_directory = output_directories[idx],\n",
<<<<<<< HEAD
    "                            output_prefix = output_prefix[idx],\n",
    "                            hetatm_resname = None, # ***IM mod*** str/list of str of for non-protein molecules, e.g.: 'ATP' or ['ADP','PI2']***IM mod***\n",
    "                                                   # that we want PROPKA to take into account in the pKa calculation.\n",
    "                                                   # Their record type will be set to 'HETATM'.\n",
    "                            custom_terminal_oxygens = None,  # names of terminal oxygen atoms when different from ['O', 'OXT'], \n",
    "                                                             # provided as a list, e.g.: ['OC1', 'OC2']\n",
    "                            custom_resname_correction = None,   # dictionary of custom protein residue names not included in\n",
    "                                                                # the hard-coded TrIPP dictionary (tripp._correction_dictionary_.py). \n",
    "                                                                # Can be given as e.g. {'XXX':'ASP'}, where 'XXX' is the residue\n",
    "                                                                # name in the PDB file and 'ASP' is the corresponding\n",
    "                                                                # PROPKA name.\n",
    "                            cpu_core_number = -1)   # number of CPU cores. Set to -1 to use all available cores.\n",
    "    \n",
    "    TrIPP_Traj.run(extract_buriedness_data = True,   # Set to True to save also the buriedness values, \n",
    "                                                     # otherwise only pKa values are saved. \n",
    "                   chain = chain_ID,   # ***IM mod*** TrIPP will save the pKa values for residues in this chain. \n",
    "                                       # If your system is a multi-chain system, provide a list ['A','B'] to save the\n",
    "                                       # pKa predicted by PROPKA in two seperate files.\n",
    "                                       # ***IM mod***\n",
    "                   mutation = None,   # Set to None to run PROPKA on the original residues (no pseudo-mutations).\n",
    "                                      # See Section 4 to run pseudo-mutations.\n",
    "                   disulphide_bond_detection = True,   # If set to True, pka and buriedness values for cysteines \n",
    "                                                       # forming a disulphide bond will not be saved in the CSV files.\n",
    "                   optargs = [])  # optargs for PROPKA.run.single(), example can be found in\n",
    "                                  # https://propka.readthedocs.io/en/latest/_modules/propka/run.html#single\n",
    "                                  # Additionally, the hydrogen atoms are replaced in PROPKA internally. User\n",
    "                                  # has the option to keep the original coordinate by supplying ['-k']\n",
    "    print('---------------------------------------------------------------------------------')"
=======
    "                            output_prefix = output_prefix_list[idx],\n",
    "                            hetatm_resname=None,  # If your topology contains non protein molecules, you can set the record type to HETATM through this argument by providing the resid.\n",
    "                            custom_terminal_oxygens=None,  # If the atom name of your terminal oxygen is not O or OXT, you can provide a list to correct them. ie: ['OC1', 'OC2']\n",
    "                            custom_resname_correction=None,  # If the resname of your topology cannot be recognized by MDAnalysis (not protein) and it is not a non protein molecules, you can add a dictionary to correct them. ie: {'XXX':'ASP'}\n",
    "                            cpu_core_number=-1) # Setting the argument cpu_number to -1 allows for the use of all available CPUs \n",
    "    \n",
    "    TrIPP_Traj.run(extract_buriedness_data=True,  # If set to False, only pKa data will be saved as CSV, else both pKa and buriedness data will be saved\n",
    "                   chain='A',  # Default is chain = 'A', if system does not contain chain ID, it will add 'A' to the whole system.\n",
    "                   mutation=None,  # For now no pseudomutation will be performed.\n",
    "                   disulphide_bond_detection=True,  # If set to True, cysteines that form disulphide bond will not be saved in the CSV file.\n",
    "                   optargs=[])  # optargs for PROPKA.run.single()\n",
    "    print('----------------------------------')"
>>>>>>> main
   ]
  },
  {
   "cell_type": "markdown",
   "metadata": {},
   "source": [
<<<<<<< HEAD
    "The distribution of the p*K*<sub>a</sub> values for each ionisable residue can be visualized by running the following cell. Heatmaps of the distributions are shown with a colour gradient (blue), while a dotted red line indicates the model p*K*<sub>a</sub> value for each residue type (*** to be changed: add link to the list of PROPKA model values). Note that N+ and C- correspond to the amino and carboxyl groups at the N- and C-terminus, respectively."
=======
    "After running the trajectory class, the following files will be produced in the each of the directories `output/1AKI_md1_300ns` and `output/1AKI_md2_300ns`:\n",
    "- a p*K*</sub>a</sub> csv file: The time evolution of the pKa of all ionisable residues\n",
    "- a buriedness csv file (optional): The time evoution of the buriedness of all ionisable residues\n",
    "- a log file: All parameters that are selected for the running the Trajectory class and some statstics (Mean,Median,Standard Deviation) of the p*K*</sub>a</sub> of each ionisable residues were included. Warnings from PROPKA will also be directed to this file.\n",
    "\n",
    "Note that in the log file, you might see a warning message coming from PROPKA about \"Missing atoms or failed protonation for ASN  27 A (AMD) -- please check the structure\". Our understanding to this is that PROPKA has a pre-defined number of interactions for different groups (https://propka.readthedocs.io/en/latest/_modules/propka/group.html). The conformation of the residue would change throughout the trajectory. Hence, the number of interactions is not definite. User can check the frame as noted in the log file for checking."
   ]
  },
  {
   "cell_type": "markdown",
   "metadata": {},
   "source": [
    "The distribution of the p*K*<sub>a</sub> values can be visualized with the following code. This would allow one to determine, which residues are more likely to change protonation state and diverge the most from model values. Note N+ and C- correspond to the N-terminal and C-terminal residue, respectively."
>>>>>>> main
   ]
  },
  {
   "cell_type": "code",
   "execution_count": null,
   "metadata": {},
   "outputs": [],
   "source": [
    "fig, ax = plt.subplots(1, ntraj, figsize = (4 * ntraj, 6), sharex = True, sharey = True) \n",
    "\n",
    "#Plot histogram showing the pKa values\n",
<<<<<<< HEAD
    "for idx in range(ntraj):\n",
    "    df_md = pd.read_csv(f'{output_directories[idx]}/{output_prefix[idx]}_pka.csv') \n",
    "    df_melt = df_md.melt(id_vars = 'Time [ps]', var_name = 'Residues', value_name = 'pKa value') \n",
    "    sns.histplot(data=df_melt, x = 'pKa value', y = 'Residues', ax = ax[idx], binwidth = 0.1)\n",
    "    ax[idx].set(xlabel = r'pK$_{\\rm a}$')\n",
=======
    "for idx in range(len(trajectory_files)):\n",
    "    df_md = pd.read_csv(f'{output_directories[idx]}/{output_prefix_list[idx]}_pka_chainA.csv') \n",
    "    df_melt = df_md.melt(id_vars='Time [ps]', var_name='Residues', value_name='pKa value') \n",
    "    sns.histplot(data=df_melt, x='pKa value', y='Residues', ax=ax[idx], binwidth=0.1)\n",
    "    ax[idx].set(xlabel=r'pK$_{\\rm a}$')\n",
>>>>>>> main
    "    ax[idx].set_title(f\"{trajectory_files[idx].split('/')[-1].split('.')[0]}\")\n",
    "    #Adding model pKa value to each row\n",
    "    for ytick, residue in enumerate([i[:3] for i in df_melt['Residues'].unique()]):\n",
    "        if 'N+' in residue:\n",
    "            ax[idx].vlines(model_pka_values['NTR'], ytick-0.5, ytick+0.5, colors = 'red', linestyles = 'dotted')\n",
    "        elif 'C-' in residue:\n",
    "            ax[idx].vlines(model_pka_values['CTR'], ytick-0.5, ytick+0.5, colors = 'red', linestyles = 'dotted')\n",
    "        else:\n",
<<<<<<< HEAD
    "            ax[idx].vlines(model_pka_values[residue], ytick-0.5, ytick+0.5, colors = 'red', linestyles = 'dotted')\n",
    "    ax[idx].legend(['Model pKa'])\n",
    "plt.show()"
=======
    "            ax[idx].vlines(model_pka_values[residue],ytick-0.5,ytick+0.5,colors='red',linestyles='dotted')\n",
    "ax[1].legend(['Model pKa'])\n",
    "plt.show()\n",
    "plt.close()"
>>>>>>> main
   ]
  },
  {
   "cell_type": "markdown",
   "metadata": {},
   "source": [
    "The acidic residues ASP52 and GLU35 are of particular interest since they show an upshift of their p*K*<sub>a</sub> values towards physiological pH, which means that an increase of their p*K*<sub>a</sub> due to the changes in the local environement would change their favoured protonation state."
   ]
  },
  {
   "cell_type": "markdown",
   "metadata": {},
   "source": [
    "TrIPP can also calculate the p*K*<sub>a</sub> deviation from the PROPKA model value for each ionisable residue and save it to a CSV file using the `calculate_difference_to_model` function. Running the cell below creates the following files:\n",
    "\n",
    "* **output/1AKI_md1_300ns/1AKI_md1_300ns_difference_to_model.csv**: csv file with the time (ps) in the first column + p*K*<sub>a</sub> deviation from model values for the ionisable residues calculated during the 1AKI_md1_300ns.xtc trajectory (1 column for each residue)\n",
    "\n",
    "plus an equivalent file for the second trajectory (1AKI_md2_300ns.xtc)."
   ]
  },
  {
   "cell_type": "code",
<<<<<<< HEAD
   "execution_count": null,
   "metadata": {},
   "outputs": [],
   "source": [
    "for idx in range(ntraj):\n",
    "    calculate_difference_to_model(output_directory = output_directories[idx],\n",
    "                                  output_prefix = output_prefix[idx])"
=======
   "execution_count": 14,
   "metadata": {},
   "outputs": [],
   "source": [
    "for idx in range(len(trajectory_files)):\n",
    "    calculate_difference_to_model(input_directory = output_directories[idx],\n",
    "                                  pka_csv_prefix = pKaCSV_list[idx]) "
>>>>>>> main
   ]
  },
  {
   "cell_type": "markdown",
   "metadata": {},
   "source": [
    "The corresponding distributions can be visualised as above by running the following cell:"
   ]
  },
  {
   "cell_type": "code",
<<<<<<< HEAD
   "execution_count": null,
=======
   "execution_count": 17,
>>>>>>> main
   "metadata": {},
   "outputs": [],
   "source": [
    "fig, ax = plt.subplots(1, ntraj, figsize = (4 * ntraj, 6), sharex = True, sharey = True) \n",
    "\n",
    "#Plot histogram showing the deviation from the model pKa values \n",
<<<<<<< HEAD
    "for idx in range(ntraj):\n",
    "    df_md = pd.read_csv(f'{output_directories[idx]}/{output_prefix[idx]}_difference_to_model.csv') \n",
    "    df_melt = df_md.melt(id_vars = 'Time [ps]', var_name = 'Residues', value_name = 'pKa value deviation') \n",
    "    sns.histplot(data = df_melt, x = 'pKa value deviation', y = 'Residues', ax = ax[idx], binwidth = 0.1)\n",
    "    ax[idx].set(xlabel = r'pK$_{\\rm a}$ deviation')\n",
=======
    "for idx in range(len(trajectory_files)):\n",
    "    df_md = pd.read_csv(f'{output_directories[idx]}/{output_prefix_list[idx]}_pka_chainA_difference_to_model.csv') \n",
    "    df_melt = df_md.melt(id_vars='Time [ps]', var_name='Residues', value_name='pKa value deviation') \n",
    "    sns.histplot(data=df_melt, x='pKa value deviation', y='Residues', ax=ax[idx], binwidth=0.1)\n",
    "    ax[idx].set(xlabel=r'pK$_{\\rm a}$ deviation')\n",
>>>>>>> main
    "    ax[idx].set_title(f\"{trajectory_files[idx].split('/')[-1].split('.')[0]}\")\n",
    "plt.show()\n",
    "plt.close()"
   ]
  },
  {
   "cell_type": "markdown",
   "metadata": {},
   "source": [
    "# 2. Visualizing with PyMOL"
   ]
  },
  {
   "cell_type": "markdown",
   "metadata": {},
   "source": [
    "The `Visualization` class in TrIPP allows p*K*<sub>a</sub> values to be colour mapped onto a structure provided by the user. Using this class requires specifying the path to a local PyMOL exectuable in the user-defined variables section below.\n",
    "\n",
    "There are different options for the p*K*<sub>a</sub> values to be mapped, which can be specified with the `coloring_method` argument of `gen_pse()`:\n",
    "\n",
    "* **'mean'**: the mean p*K*<sub>a</sub> value is mapped on each ionisable residue. Mean values are calculated over all the p*K*<sub>a</sub> files specified through the `pka_file` argument of `Visualisation`.\n",
    "\n",
    "* **'difference_to_model_value'**: the difference between the mean and the model p*K*<sub>a</sub> value is mapped on each ionisable residue. Mean values are calculated over all the p*K*<sub>a</sub> files specified through the `pka_file` argument of `Visualisation`.\n",
    "\n",
    "* **'correlation'**: the coupling between p*K*<sub>a</sub> and collective motions in the protein is mapped on each ionisable residue. This option requires providing an additional file (see Part 5). \n",
    "\n",
    "* **an integer or float**: if the timestep of a specific frame is given, the p*K*<sub>a</sub> value calculated for that frame is mapped on each ionisable residue."
   ]
  },
  {
   "cell_type": "markdown",
   "metadata": {},
   "source": [
    "Running the cell below generates the following files:\n",
    "\n",
    "* **output/1AKI_md_all_300ns_pka_mean.pse**: PyMOL session for the mapping of mean p*K*<sub>a</sub> values\n",
    "* **output/1AKI_md_all_300ns_pka_mean.pdb**: reference PDB file with mean p*K*<sub>a</sub> values in the B-factor field\n",
    "* **output/1AKI_md_all_300ns_pka_difference_to_model_value.pse**: PyMOL session for the mapping of the difference between mean and model p*K*<sub>a</sub> values\n",
    "* **output/A1AKI_md_all_300ns_pka_difference_to_model_value.pdb** reference PDB file with the difference between mean and model p*K*<sub>a</sub> values in the B-factor field"
   ]
  },
  {
   "cell_type": "code",
<<<<<<< HEAD
   "execution_count": null,
=======
   "execution_count": 3,
>>>>>>> main
   "metadata": {},
   "outputs": [],
   "source": [
    "# Start of user-defined variables -------------------------\n",
    "\n",
<<<<<<< HEAD
    "pymol_path = '/opt/homebrew/bin/pymol' # path to PyMOL executable\n",
    "pymol_output_prefix = '1AKI_md_all_300ns_pka' # prefix of output file names for the PyMOL analysis\n",
    "\n",
    "# End of user-defined variables -------------------------\n",
    "\n",
    "TrIPP_Vis = Visualization(topology_file = topology_file, \n",
    "                          pka_file = pka_files) # filename(s) (including the path), can be str or list of str\n",
    "\n",
    "TrIPP_Vis.gen_pse(pymol_path = pymol_path,\n",
    "                  output_directory = output_dir,\n",
    "                  output_prefix = pymol_output_prefix,\n",
    "                  chain = 'A',\n",
    "                  coloring_method = 'mean',  # generates PyMOL session with the mean pKa \n",
    "                  lower_limit = 0,   # Minimum of the colour scale\n",
    "                  upper_limit = 14,  # Maximum of the colour scale\n",
    "                  color_palette = 'red_white_blue')  # see https://pymolwiki.org/index.php/Spectrum for available palettes\n",
    "\n",
    "TrIPP_Vis = Visualization(topology_file = topology_file, \n",
    "                          pka_file = pka_files) # filename(s) (including the path), can be str or list of str\n",
    "\n",
    "TrIPP_Vis.gen_pse(pymol_path = pymol_path,\n",
    "                  output_directory = output_dir,\n",
    "                  output_prefix = pymol_output_prefix,\n",
    "                  chain = 'A',\n",
    "                  coloring_method = 'difference_to_model_value',  # generates PyMOL session with the difference between the mean and the model pKa \n",
    "                  lower_limit = -3,  # Minimum of the colour scale\n",
    "                  upper_limit = 2,   # Maximum of the colour scale\n",
    "                  color_palette = 'red_white_blue')  # see https://pymolwiki.org/index.php/Spectrum for available palettes"
=======
    "TrIPP_Vis.gen_pse(pymol_path=pymol_path,\n",
    "                  output_directory=output_dir,\n",
    "                  output_prefix=f'{Combined_output_prefix}_pka',\n",
    "                  chain = 'A',\n",
    "                  coloring_method='mean',  # Output PyMOL session with the mean pKa \n",
    "                  lower_limit=0,  # Minimum of the colour bar\n",
    "                  upper_limit=14,  # Maximum of the colour bar\n",
    "                  color_palette='red_white_blue')  #"
   ]
  },
  {
   "cell_type": "markdown",
   "metadata": {},
   "source": [
    "[<img src=\"data/Mean_pka.png\" width=\"700\"/>](data/Mean_pka.png)"
   ]
  },
  {
   "cell_type": "markdown",
   "metadata": {},
   "source": [
    "One can also generates a PyMOL session for the difference of the mean p*K*<sub>a</sub> to the model p*K*<sub>a</sub> value."
   ]
  },
  {
   "cell_type": "code",
   "execution_count": 21,
   "metadata": {},
   "outputs": [
    {
     "name": "stdout",
     "output_type": "stream",
     "text": [
      " PyMOL(TM) 3.0.1 - Incentive Product\n",
      " Copyright (C) Schrodinger, LLC\n",
      " \n",
      " This Executable Build integrates and extends Open-Source PyMOL.\n",
      " Detected 12 CPU cores.  Enabled multithreaded rendering.\n"
     ]
    }
   ],
   "source": [
    "# Cell 2.2\n",
    "TrIPP_Vis = Visualization(topology_file=topology_file, \n",
    "                          pka_file=pka_files) \n",
    "\n",
    "TrIPP_Vis.gen_pse(pymol_path=pymol_path,\n",
    "                  output_directory=output_dir,\n",
    "                  output_prefix=f'{Combined_output_prefix}_pka',\n",
    "                  chain='A',\n",
    "                  coloring_method='difference_to_model_value',  # Output PyMOL session with the difference between the mean to the model pKa \n",
    "                  lower_limit=-3,  # Minimum of the colour bar\n",
    "                  upper_limit=2,  # Maximum of the colour bar\n",
    "                  color_palette='red_white_blue') "
>>>>>>> main
   ]
  },
  {
   "cell_type": "markdown",
   "metadata": {},
   "source": [
    "Below you can see snapshots of the mapping of mean p*K*<sub>a</sub> values (left) and of the difference between mean and model p*K*<sub>a</sub> values (right) for HEWL:"
   ]
  },
  {
   "cell_type": "markdown",
   "metadata": {},
   "source": [
    " \n",
    " \n",
    " <img src=\"data/Mean_pka.png\" width=\"400\"/>      <img src=\"data/Difference_to_model_pka.png\" width=\"400\"/>\n",
    "\n",
    "            Mean pKa values                              Difference between mean pKa and model values      "
   ]
  },
  {
   "cell_type": "markdown",
   "metadata": {},
   "source": [
    "# 3. Clustering with p*K*<sub>a</sub> values"
   ]
  },
  {
   "cell_type": "markdown",
   "metadata": {},
   "source": [
    "It is useful to have a method to extract structures that are representative of the different environments around ionisable residues observed during the trajectory. \n",
    "\n",
    "The `Clustering` class in TrIPP can be used to cluster the frames using one of the following methods:\n",
    "\n",
    "* **K-medoids** (implemented as `kmedoid` method of the `Clustering` class).\n",
    "* A **greedy** method as described in Micheletti et al. PROTEINS: Structure, Function, and Genetics 40:662– 674 (2000)(implemented as `greedy`).\n",
    "* **DBSCAN** (implemented as `dbscan`).\n",
    "\n",
    "The features used to describe the frames in the clustering include:\n",
    "\n",
    "* The p*K*<sub>a</sub> values of the residues of interest.\n",
    "* (Optional) All the possible pairs of distances between charge centers in those residues (`include_distances` = True).\n",
    "* (Optional) The buriedness values of the residues of interest (`include_buriedness` = True)\n",
    "\n",
    "The frame features are preprocessed (Z-score normalisation) before clustering. It is also possible to run a PCA on the features before the clustering is performed (`dimensionality_reduction` = True). \n",
    "\n",
    "See the main text of the TrIPP manuscript for more details on the clustering implementation."
   ]
  },
  {
   "cell_type": "code",
<<<<<<< HEAD
   "execution_count": null,
=======
   "execution_count": 22,
>>>>>>> main
   "metadata": {},
   "outputs": [],
   "source": [
    "# Start of user-defined variables -------------------------\n",
    "\n",
<<<<<<< HEAD
    "resid_clust_list = ['GLU35', 'ASP52'] # list of residues to be used in the clustering (same residue name and ID as in the reference PDB file)\n",
    "clustering_output_prefix = '1AKI_md_all_300ns' # prefix of output files from the clustering analysis\n",
    "\n",
    "# End of user-defined variables -------------------------\n",
    "\n",
    "resnum_clust_list = [ x[-(len(x) - 3):] for x in resid_clust_list]\n",
    "resname_clust_list = [ x[0:3] for x in resid_clust_list] "
   ]
  },
  {
   "cell_type": "markdown",
   "metadata": {},
   "source": [
    "The code in the cell below clusters frames from all the input trajectories using K-medoids and the p*K*<sub>a</sub> values of selected residues as features. The `automatic` argument of `kmedoids` is set to True, so an automatic searching of the optimal hyperparameter values for that method (number of output clusters) is carried out.   \n",
    "\n",
    "Running the cell produces the following files:\n",
    "\n",
    "* **output/1AKI_md_all_300ns_KMedoids.log**: a log file containing the clustering details.\n",
    "* **output/1AKI_md_all_300ns_KMedoids_C0.pdb** and **1AKI_md_all_300ns_KMedoids_C1.pdb**: PDB files of the representative structures of the two clusters found in the optimal clustering run (number of output clusters = 2).\n",
    "* **output/1AKI_md_all_300ns_KMedoids_cluster.csv**: a CSV file containing the cluster label for each frame (optimal clustering), together with the p*K*<sub>a</sub> values of the selected residues."
   ]
  },
  {
   "cell_type": "code",
   "execution_count": null,
   "metadata": {},
   "outputs": [],
   "source": [
    "TrIPP_Clust = Clustering(topology_file = topology_file, \n",
    "                         trajectory_file = trajectory_dict,  # Dictionary where the key is the name of the trajectory, and the value is the path to that trajectory\n",
    "                         pka_file = pka_files,  # List of paths to pKa files\n",
    "                         buriedness_file = buriedness_files,\n",
    "                         residues = resnum_clust_list,  # List of residues of interest (PDB resid)\n",
    "                         output_directory = output_dir,\n",
    "                         output_prefix = clustering_output_prefix, \n",
    "                         include_distances = False,  # If set to true, the feature matrix will include the euclidean distance between all the possible pairs of charge centres in the selected group of residues\n",
    "                         include_buriedness = False,  # If set to true, the feature matrix will include the buriedness of the selected residues\n",
    "                         dimensionality_reduction = False)  # If set to true, a principal component analysis is performed on the feature matrix before clustering. Principal components accounting for up to 90% of the total variance are retained.\n",
    "\n",
    "TrIPP_Clust.kmedoids(automatic = True,  # automatic searching for the optimal hyperparameters of kmedoids (evaluated by Silhouette score).\n",
    "                     max_clusters = 20)  # the maximum number of clusters for automatic searching."
   ]
  },
  {
   "cell_type": "code",
   "execution_count": null,
   "metadata": {},
   "outputs": [],
   "source": [
    "pairs = list(combinations(range(len(resid_clust_list)), 2))\n",
    "npairs = len(pairs)\n",
    "\n",
    "fig, ax = plt.subplots(1, npairs, figsize = (npairs * 5, 5))\n",
    "ax = np.atleast_1d(ax)\n",
    "\n",
    "for i, idx in enumerate(pairs):\n",
    "    xlabel = resid_clust_list[idx[0]]\n",
    "    ylabel = resid_clust_list[idx[1]]\n",
    "    df_cluster = pd.read_csv(f'{output_dir}/{clustering_output_prefix}_KMedoids_cluster.csv')\n",
    "    sns.scatterplot(data = df_cluster, x = xlabel, y = ylabel, s = 2, hue = 'Clusters', palette = 'tab10', ax = ax[i])\n",
    "    ax[i].set(xlabel = xlabel + r' pK$_{\\rm a}$')\n",
    "    ax[i].set(ylabel = ylabel + r' pK$_{\\rm a}$')\n",
    "    ax[i].legend(title = 'Cluster ID')\n",
    "plt.show()"
=======
    "for idx in range(len(trajectory_files)):\n",
    "    df_md = pd.read_csv(pka_files[idx]) \n",
    "    sns.scatterplot(data=df_md, x='ASP52', y='GLU35', ax=ax[idx], s=2) \n",
    "    ax[idx].set_xlim(2,6) \n",
    "    ax[idx].set_ylim(2,8) \n",
    "    ax[idx].set_xlabel('pKa ASP52') \n",
    "    ax[idx].set_ylabel('pKa GLU35') \n",
    "    ax[idx].set_title(f\"{trajectory_files[idx].split('/')[-1].split('.')[0]}\")\n",
    "plt.show()\n",
    "plt.close()"
>>>>>>> main
   ]
  },
  {
   "cell_type": "markdown",
   "metadata": {},
   "source": [
    "Looking at the structures of cluster representatives (centroids) saved in the PDB files helps explaining the pKa differences between the two clusters.\n",
    "\n",
<<<<<<< HEAD
    "ASP52 forms a hydrogen bond with ASN44 in cluster 0 but not in cluster 1, which explains why ASP52 p*K*<sub>a</sub> tends to be lower in the first cluster (blue in the plot) compared to the second (orange).\n",
=======
    "We will cluster both trajectories with KMedoids to identify cluster representative structures. The two p*K*<sub>a</sub> files are combined together internally and create a clustering matrix based on z score between the features selected (buriedness/distances between charged center)."
   ]
  },
  {
   "cell_type": "code",
   "execution_count": 23,
   "metadata": {},
   "outputs": [
    {
     "name": "stdout",
     "output_type": "stream",
     "text": [
      "Clustering with 2 clusters produces an average silhouette score of 0.4647.\n",
      "Clustering with 3 clusters produces an average silhouette score of 0.3935.\n",
      "Clustering with 4 clusters produces an average silhouette score of 0.4346.\n",
      "Clustering with 5 clusters produces an average silhouette score of 0.4049.\n",
      "Clustering with 6 clusters produces an average silhouette score of 0.3972.\n",
      "Clustering with 7 clusters produces an average silhouette score of 0.3948.\n",
      "Clustering with 8 clusters produces an average silhouette score of 0.3344.\n",
      "Clustering with 9 clusters produces an average silhouette score of 0.3385.\n",
      "Clustering with 10 clusters produces an average silhouette score of 0.3156.\n",
      "Clustering with 11 clusters produces an average silhouette score of 0.3461.\n",
      "Clustering with 12 clusters produces an average silhouette score of 0.3212.\n",
      "Clustering with 13 clusters produces an average silhouette score of 0.3216.\n",
      "Clustering with 14 clusters produces an average silhouette score of 0.33.\n",
      "Clustering with 15 clusters produces an average silhouette score of 0.3276.\n",
      "Clustering with 16 clusters produces an average silhouette score of 0.3221.\n",
      "Clustering with 17 clusters produces an average silhouette score of 0.3302.\n",
      "Clustering with 18 clusters produces an average silhouette score of 0.3202.\n",
      "Clustering with 19 clusters produces an average silhouette score of 0.3164.\n",
      "Clustering with 20 clusters produces an average silhouette score of 0.3259.\n",
      "Best number of clusters identified at 2 with an average silhouette score of 0.4647.\n"
     ]
    }
   ],
   "source": [
    "# Cell 3.1\n",
    "TrIPP_Clust = Clustering(topology_file=topology_file, \n",
    "                         trajectory_file=trajectory_dict,  # Dictionary where the key is the name of the trajectory, and the value is the path to the trajectory\n",
    "                         pka_file=pka_files,  # List of paths to pKa files\n",
    "                         buriedness_file=None,\n",
    "                         selections=['chainID A and resid 35', 'chainID A and resid 52'],  # List of int that contain the residues you would like to study\n",
    "                         output_directory=output_dir,\n",
    "                         output_prefix=Combined_output_prefix, \n",
    "                         include_distances=False,  # If set to true, zscore of pKa values and the distance between charged center will be used to build the clustering matrix\n",
    "                         include_buriedness=False,  # If set to true, zscore of pKa values and the buriedness will be used to build the clustering matrix\n",
    "                         dimensionality_reduction=False)  # If set to true, principle component analysis will be performed on the clustering matrix. Prinicple component up to 90% varaince will be retained.\n",
>>>>>>> main
    "\n",
    "There is a clear difference in the p*K*<sub>a</sub> of GLU35 between the two clusters. This is explained by GLU35 forming a hydrogen bond with ARG114 in cluster 1, which leads to a decrease of GLU35 p*K*<sub>a</sub> compared to cluster 0. The formation of this hydrogen bond is favoured by a conformational change of the backbone region around GLU35, which is stabilised by an hydrogen bond interactions between ASN44 and the backbone of GLU35. The competition between the ASP52-ASN44 and GLU35-ASN44 interactions explains the correlation between GLU35 and ASP52 p*K*<sub>a</sub> values during the MD trajectories.  "
   ]
  },
  {
   "cell_type": "markdown",
   "metadata": {},
   "source": [
<<<<<<< HEAD
    " \n",
    " <img src = \"data/Kmedoids_C0.png\" width = \"400\"/>      <img src = \"data/Kmedoids_C1.png\" width = \"370\"/>\n",
    "   "
=======
    "The clustering produces a log file containing the clustering details (output/All_md_KMedoids.log), a PDB file for each cluster containing the cluster representative structure (All_md_KMedoids_C0.pdb and All_md_KMedoids_C1.pdb), and a CSV file containing the p*K*<sub>a</sub> values with its respective cluster label at different time (All_md_KMedoids_cluster.csv).\n",
    "\n",
    "We can now plot the clustering results to determine the quality of the clustering.  "
   ]
  },
  {
   "cell_type": "code",
   "execution_count": 24,
   "metadata": {},
   "outputs": [
    {
     "data": {
      "image/png": "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",
      "text/plain": [
       "<Figure size 500x500 with 1 Axes>"
      ]
     },
     "metadata": {},
     "output_type": "display_data"
    }
   ],
   "source": [
    "fig = plt.subplots(figsize=(5,5)) \n",
    "\n",
    "df_cluster = pd.read_csv(f'{output_dir}/{Combined_output_prefix}_KMedoids_cluster.csv') \n",
    "sns.scatterplot(data=df_cluster, x='ASP52', y='GLU35', s=2, hue='Clusters', palette='tab10')\n",
    "plt.show()\n",
    "plt.close()"
   ]
  },
  {
   "cell_type": "markdown",
   "metadata": {},
   "source": [
    "We can inspect the difference between the two cluster representatives (centroids).\n",
    "\n",
    "In cluster 0, ASN44 hydrogen bond with ASP52, which lowers the p*K*<sub>a</sub> of the aspartate. GLU35 is not interacting with ARG114 which increases its p*K*<sub>a</sub> value. \n",
    "\n",
    "In cluster 1, ASN44 flips away from ASP52, which interacts with the backbone of GLU35. This in turn increases the p*K*<sub>a</sub> of the aspartate. In contrast, GLU35 hydrogen bond with ARG114, which decreases the p*K*<sub>a</sub> of the glutamate. \n",
    "\n",
    "One could try to include distance/buriedness, or even perform dimenstionality reduction on the clustering matrix prior clustering by setting the hyperparameters to `True`."
   ]
  },
  {
   "cell_type": "markdown",
   "metadata": {},
   "source": [
    "[<img src=\"data/Kmedoids_C0.png\" width=\"700\"/>](data/Kmedoids_C0.png)\n"
   ]
  },
  {
   "cell_type": "markdown",
   "metadata": {},
   "source": [
    "[<img src=\"data/Kmedoids_C1.png\" width=\"700\"/>](data/Kmedoids_C1.png)"
>>>>>>> main
   ]
  },
  {
   "cell_type": "markdown",
   "metadata": {},
   "source": [
    "# 4. _Pseudomutations_ in TrIPP \n",
    "\n",
    "When running TrIPP, a `mutation` argument can be used to mutate a given residue to alanine before the p*K*<sub>a</sub> calculations are carried out. Comparing these values with the ones from the original frames ('wild type') provides a direct measure of the contribution of the mutated side chain to the p*K*<sub>a</sub> of the ionisable residues nearby. We called these mutations _pseudomutations_ since for each frame, only the selected residue is changed, while the rest of the protein is left unchanged (no new MD simulations are run to model how the structure of the protein changes as a result of the mutation).\n",
    "\n",
    "In the following example, we run a total of four _pseudomutations_ (one at a time) on the two trajectories: \n",
    "- ASN44ALA\n",
    "- ASN46ALA\n",
    "- ASN59ALA\n",
    "- ARG114ALA\n",
    "\n",
    "\n",
    "**The running time of the following cell on a Macbook Pro (M2 Pro) using 12 cores is ~ 5 minutes.**\n",
    "\n",
    "Running the cell produces as many new folders in the `output_dir` as the number of _pseudomutations_, each containing a log and a pka file (see Part 1 for a description of their format).\n",
    "\n",
    "After the calculation is complete, the p*K*<sub>a</sub> distributions of the residues listed in `residue_pKa_list` are plotted to compare their values in the wild type and in the pseudomutated trajectories."
   ]
  },
  {
   "cell_type": "code",
<<<<<<< HEAD
   "execution_count": null,
   "metadata": {},
   "outputs": [],
   "source": [
    "# Start of user-defined variables -------------------------\n",
    "residue_mutation_list = ['ASN44', 'ASN46', 'ASN59', 'ARG114'] # list of residues to be mutated (same residue name and ID as in the reference PDB file)\n",
    "residue_pKa_list = ['ASP52', 'GLU35'] # the pKa of these residues will be plotted before ('Wild Type') and after the pseudomutation is applied \n",
    "\n",
    "# End of user-defined variables -------------------------\n",
    "\n",
    "mutation_list = [x + 'ALA' for x in residue_mutation_list]\n",
    "mutation_output_directories = [ [output_dir + '/' + x + '_' + y for y in mutation_list] for x in traj_prefix_list ]\n",
    "mutation_output_prefix = [ [ x + '_' + y for y in mutation_list] for x in traj_prefix_list ]"
   ]
  },
  {
   "cell_type": "code",
   "execution_count": null,
   "metadata": {},
   "outputs": [],
=======
   "execution_count": 3,
   "metadata": {},
   "outputs": [
    {
     "name": "stdout",
     "output_type": "stream",
     "text": [
      "Processing pseudomutation on chainID A and resid 44 in data/1AKI_md1_300ns.xtc.\n",
      "---------------------------------------------------------------------------------\n",
      "Processing pseudomutation on chainID A and resid 46 in data/1AKI_md1_300ns.xtc.\n",
      "---------------------------------------------------------------------------------\n",
      "Processing pseudomutation on chainID A and resid 59 in data/1AKI_md1_300ns.xtc.\n",
      "---------------------------------------------------------------------------------\n",
      "Processing pseudomutation on chainID A and resid 114 in data/1AKI_md1_300ns.xtc.\n",
      "---------------------------------------------------------------------------------\n",
      "Processing pseudomutation on chainID A and resid 44 in data/1AKI_md2_300ns.xtc.\n",
      "---------------------------------------------------------------------------------\n",
      "Processing pseudomutation on chainID A and resid 46 in data/1AKI_md2_300ns.xtc.\n",
      "---------------------------------------------------------------------------------\n",
      "Processing pseudomutation on chainID A and resid 59 in data/1AKI_md2_300ns.xtc.\n",
      "---------------------------------------------------------------------------------\n",
      "Processing pseudomutation on chainID A and resid 114 in data/1AKI_md2_300ns.xtc.\n",
      "---------------------------------------------------------------------------------\n"
     ]
    }
   ],
>>>>>>> main
   "source": [
    "for idx in range(len(trajectory_files)):\n",
<<<<<<< HEAD
    "    for mtype_idx, mutation in enumerate(mutation_list): \n",
    "        print(f'Processing pseudomutation resid {mutation} in {trajectory_files[idx]}.')\n",
=======
    "    for mtype_idx, mutation in enumerate(mutations):\n",
    "        print(f'Processing pseudomutation on {mutation} in {trajectory_files[idx]}.')\n",
>>>>>>> main
    "        \n",
    "        TrIPP_Traj = Trajectory(trajectory_file = trajectory_files[idx], \n",
    "                                topology_file = topology_file,\n",
    "                                output_directory = mutation_output_directories[idx][mtype_idx],\n",
<<<<<<< HEAD
    "                                output_prefix = mutation_output_prefix[idx][mtype_idx],\n",
    "                                cpu_core_number = -1) \n",
    "        \n",
    "        TrIPP_Traj.run(extract_buriedness_data = False,\n",
    "                        chain = chain_ID,\n",
    "                        mutation = int(re.search(r\"[A-Za-z]+(\\d+)[A-Za-z]+\", mutation).group(1)),  # *** To be checked: this can be a single or double mutation. In the case of double mutation, a list of int can be provided.\n",
    "                        disulphide_bond_detection = True,\n",
    "                        optargs = [])\n",
=======
    "                                output_prefix = mutation_prefix_list[idx][mtype_idx],\n",
    "                                cpu_core_number=-1) \n",
    "        \n",
    "        TrIPP_Traj.run(extract_buriedness_data=False,\n",
    "                        chain='A',\n",
    "                        mutation_selections=mutation,  # This can be a single or double mutation. In the case of double mutation, a list of int can be provided.\n",
    "                        disulphide_bond_detection=True,\n",
    "                        optargs=[])\n",
>>>>>>> main
    "        print('---------------------------------------------------------------------------------')"
   ]
  },
  {
   "cell_type": "code",
<<<<<<< HEAD
   "execution_count": null,
=======
   "execution_count": 7,
>>>>>>> main
   "metadata": {},
   "outputs": [],
   "source": [
    "combined_df = []\n",
    "for idx in range(len(trajectory_files)):\n",
<<<<<<< HEAD
    "    pka_file = pka_files[idx]\n",
    "    df = pd.read_csv(pka_file)\n",
    "    df = df[['Time [ps]'] + residue_pKa_list]\n",
    "    df['Run'] = f\"{trajectory_files[idx].split('/')[-1].split('.')[0]}\"\n",
    "    df['System'] = 'Wild Type'\n",
    "    combined_df.append(df)\n",
    "    for mtype_idx, mutation_label in enumerate(mutation_list):\n",
    "        mutation_pka_file = mutation_output_directories[idx][mtype_idx] + '/' + mutation_output_prefix[idx][mtype_idx] + '_pka.csv'\n",
    "        df = pd.read_csv(mutation_pka_file)\n",
    "        df = df[['Time [ps]'] + residue_pKa_list]\n",
=======
    "    df = pd.read_csv(pka_files[idx])\n",
    "    df['Run'] = f\"{trajectory_files[idx].split('/')[-1].split('.')[0]}\"\n",
    "    df['Mutation'] = 'Wild type'\n",
    "    combined_df.append(df)\n",
    "    for mtype_idx, mutation_name in enumerate(mutation_names):\n",
    "        df = pd.read_csv(mutation_pka_files[idx][mtype_idx])\n",
    "        df = df[['Time [ps]', 'ASP52', 'GLU35']]\n",
>>>>>>> main
    "        df['Run'] = f\"{trajectory_files[idx].split('/')[-1].split('.')[0]}\"\n",
    "        df['System'] = mutation_label\n",
    "        combined_df.append(df)\n",
    "combined_df = pd.concat(combined_df)\n",
    "\n",
    "fig, ax = plt.subplots(1, len(residue_pKa_list), figsize = (len(residue_pKa_list) * 5,5)) \n",
    "for index, residue in enumerate(residue_pKa_list): \n",
    "    sns.boxplot(data = combined_df, x = 'Run', y = residue, hue = 'System', ax = ax[index]) \n",
    "    ax[index].set_ylabel(residue + r' pK$_{\\rm a}$')\n",
    "    ax[index].set_ylim([0, 14])\n",
    "    ax[index].legend(title = 'System')\n",
    "    for label in ax[index].get_xticklabels():\n",
    "        label.set_rotation(45)\n",
    "plt.show()"
   ]
  },
  {
   "cell_type": "markdown",
   "metadata": {},
   "source": [
    "The previos cell generates two sets of boxplots. The boxplots on the left show that for both trajectories, the p*K*<sub>a</sub> distribution of ASP52 is affected by _pseudomutation_ of the three asparagines but not of the arginine residue. _Pseudomutation_ of ASN44 seems to have a slightly reduced impact compared to the other ASN residues, which can be explained by the observation that this residue does not always form interactions with ASP52 (as also shown by the cluster analysis in Part 3). The p*K*<sub>a</sub> distribution of GLU35 (boxplots on the right) is only affected by ARG114, as expected since GLU35 interacts directly only with ARG114."
   ]
  },
  {
   "cell_type": "markdown",
   "metadata": {},
   "source": [
    "# 5. Coupling between p*K*<sub>a</sub> changes and collective motions"
   ]
  },
  {
   "cell_type": "markdown",
   "metadata": {},
   "source": [
    "Calculating the correlation between p*K*<sub>a</sub> values and geometric variables descrbing the collective motions of the protein might be useful to identify residues whose p*K*<sub>a</sub> changes are somehow coupled with global conformational changes. Here we use the trajectory projection on a Principal Component (PC1 from 1AKI_md1_300ns), but in principle other variables could be used.\n",
    "\n",
    "The following cell calculates the correlation coefficient between the p*K*<sub>a</sub> values of each ionisabile residue in the file **1AKI_md1_300ns_pka.csv** (generated in Part 1) and the PC1 projection values in the file **1AKI_md1_300ns_pc1.csv**. Please note the latter needs to be provided by the user as it is not generated in any part of this tutorial. The file needs to be located in the `input_dir` folder defined in Part 0 and contains the timestamp (first column) and the projection value on PC1 (second column) for each frame in the 1AKI_md1_300ns trajectory.\n",
    "\n",
    "Running the cell generates the following file:\n",
    "\n",
    "* **output/1AKI_md1_300ns/1AKI_md1_300ns_pc1_1AKI_md1_300ns_pka_correlation.csv**"
   ]
  },
  {
   "cell_type": "code",
<<<<<<< HEAD
   "execution_count": null,
   "metadata": {},
   "outputs": [],
   "source": [
    "# Start of user-defined variables -------------------------\n",
    "\n",
    "PC_pka_pairs = {\n",
    "    '1AKI_md1_300ns_pc1.csv':'1AKI_md1_300ns_pka.csv'\n",
    "    } # Dictionary of PC projections, pKa file pairs: correlation coefficients will be calculated\n",
    "      # between PC and pKa values in each pair of files. The files with the PC projection values need to be \n",
    "      # generated separately and moved to the `input_dir` folder defined in Part 0. The files with \n",
    "      # the pKa values have been generated in Part 1 and are stored in the `output_dir` folder, the user\n",
    "      # just needs to make sure that the correct name for those files is used in this dictionary.\n",
    "\n",
    "# End of user-defined variables -------------------------\n",
    "\n",
    "npairs = len(PC_pka_pairs)\n",
    "unrolled_PC = [x for x in PC_pka_pairs.keys()]\n",
    "unrolled_pka = [x for x in PC_pka_pairs.values()]\n",
    "\n",
    "output_prefix_list = [unrolled_PC[i].split('.')[0] + '_' + unrolled_pka[i].split('.')[0] for i in range(npairs)]"
=======
   "execution_count": 8,
   "metadata": {},
   "outputs": [],
   "source": [
    "# Cell 5.1\n",
    "for pKaCSV, ProjectionCSV, CorrelationOutputPrefix in zip(pka_files, ProjectionCSV_list, correlation_output_prefix_list):\n",
    "    PCProjectionScreening(output_directory=output_dir,\n",
    "                          output_prefix=CorrelationOutputPrefix,\n",
    "                          pka_file=pKaCSV,  # Path to the pKa CSV produced by Trajectory.run\n",
    "                          projection_file=ProjectionCSV,  # Path to the time evolution of projection CSV file. Note specific format needed, please see example format in data/1AKI_md1_pc1.csv\n",
    "                          method=CorrelationMethod)  # Correlation method, can be 'Pearson' or 'Spearman'"
   ]
  },
  {
   "cell_type": "markdown",
   "metadata": {},
   "source": [
    "The correlation value can then be mapped to the structure using our `Visualization` class by providing the `correlation_file` generated earlier. You can also set `correlation_threshold` to show only residues above/below a given threshold for clarity."
>>>>>>> main
   ]
  },
  {
   "cell_type": "code",
<<<<<<< HEAD
   "execution_count": null,
   "metadata": {},
   "outputs": [],
   "source": [
    "for idx in range(npairs):\n",
    "    output_dir_idx = output_dir + \"/\" + re.search(r\"(.+)_pka\", unrolled_pka[idx]).group(1)\n",
    "    PCProjectionScreening(output_directory = output_dir_idx,\n",
    "                          output_prefix = output_prefix_list[idx] + '_correlation',\n",
    "                          pka_file = output_dir_idx + \"/\" + unrolled_pka[idx],  # Path+name of the CSV file with pKa values\n",
    "                          projection_file = input_dir + \"/\" + unrolled_PC[idx],  # Path+name of the CSV file with PC projection values\n",
    "                          method = 'Pearson')  # Correlation method, can be 'Pearson' or 'Spearman'"
   ]
  },
  {
   "cell_type": "markdown",
   "metadata": {},
   "source": [
    "If a working installation of PyMOL is available, correlation values can be colour mapped onto the structure using our `Visualization` class and the `correlation_file` argument. A `correlation_threshold` argument can be also used to show only residues with correlation above/below a given value.\n",
    "\n",
    "Running the following cell requires having defined the `pymol_path` variable in Part 2. It will generate the following files:\n",
    "\n",
    "* **output/1AKI_md1_300ns/1AKI_md1_300ns_pc1_1AKI_md1_300ns_pka_correlation.pdb**: PDB file with the reference structure and the correlation values stored in the B-factor column (ionisable residues only) \n",
    "* **output/1AKI_md1_300ns/1AKI_md1_300ns_pc1_1AKI_md1_300ns_pka_correlation.pse**: PyMOL session"
   ]
  },
  {
   "cell_type": "code",
   "execution_count": null,
   "metadata": {},
   "outputs": [],
   "source": [
    "for idx in range(npairs):\n",
    "    output_dir_idx = output_dir + '/' + re.search(r'(.+)_pka', unrolled_pka[idx]).group(1)\n",
    "    Corr_Vis = Visualization(topology_file = topology_file,\n",
    "                             correlation_file = output_dir_idx + '/' + output_prefix_list[idx] + '_correlation.csv')  # Path+name of the CSV file \n",
    "                                                                                                          # with the PC vs pKa correlation \n",
    "                                                                                                          # coefficients\n",
    "\n",
    "    Corr_Vis.gen_pse(pymol_path = pymol_path, # path to PyMOL executable\n",
    "                     output_directory = output_dir_idx,\n",
    "                     output_prefix = output_prefix_list[idx],\n",
    "                     coloring_method = 'correlation',  # Residues will be coloured according to the PC vs pKa correlation coefficient\n",
    "                     lower_limit = -1,  # Minimum of the colour scale\n",
    "                     upper_limit = 1,   # Maximum of the colour scale\n",
    "                     correlation_threshold = 0.5,  # Show only residues with absolute correlation coefficient above this threshold\n",
    "                     color_palette = 'red_white_blue')"
=======
   "execution_count": 5,
   "metadata": {},
   "outputs": [
    {
     "name": "stdout",
     "output_type": "stream",
     "text": [
      " PyMOL(TM) 3.0.1 - Incentive Product\n",
      " Copyright (C) Schrodinger, LLC\n",
      " \n",
      " This Executable Build integrates and extends Open-Source PyMOL.\n",
      " Detected 12 CPU cores.  Enabled multithreaded rendering.\n",
      " PyMOL(TM) 3.0.1 - Incentive Product\n",
      " Copyright (C) Schrodinger, LLC\n",
      " \n",
      " This Executable Build integrates and extends Open-Source PyMOL.\n",
      " Detected 12 CPU cores.  Enabled multithreaded rendering.\n"
     ]
    }
   ],
   "source": [
    "# Cell 5.2\n",
    "for CorrelationOutputPrefix in correlation_output_prefix_list:\n",
    "    CorrelationFile = f'{output_dir}/{CorrelationOutputPrefix}.csv'\n",
    "    Corr_Vis = Visualization(topology_file=topology_file,\n",
    "                             correlation_file=CorrelationFile)  # Path to the correlation file \n",
    "\n",
    "    Corr_Vis.gen_pse(pymol_path=pymol_path, \n",
    "                    output_directory=output_dir,\n",
    "                    output_prefix=CorrelationOutputPrefix,\n",
    "                    coloring_method='correlation',  # Set to correlation when you would like to color the system with correlation coefficient\n",
    "                    lower_limit=-1,  # Minimum of the colour bar\n",
    "                    upper_limit=1,  # Maximum of the colour bar\n",
    "                    correlation_threshold=0.5,  # Show only residues with absolute correlation coefficient above this in PyMOL session\n",
    "                    color_palette='red_white_blue')"
>>>>>>> main
   ]
  },
  {
   "cell_type": "markdown",
   "metadata": {},
   "source": [
    " <img src=\"data/PC_projection_correlation.png\" width=\"400\"/> "
   ]
  },
  {
   "cell_type": "markdown",
   "metadata": {},
   "source": [
    "The figure above has been created using the PyMOL session file generated in the previous cell, which shows a strong coupling between the dominant collective motion observed in the first trajectory and the p*K*<sub>a</sub> values of our three residues GLU35, ASP52 and ARG114.\n",
    "\n",
    "Although this analysis is presented at the end of the tutorial, for new systems without prior knowledge of key residues, it may be useful to perform it early to identify residues whose p*K*<sub>a</sub> values could be correlated with functional motions."
   ]
  }
 ],
 "metadata": {
  "kernelspec": {
   "display_name": "Python 3 (ipykernel)",
   "language": "python",
   "name": "python3"
  },
  "language_info": {
   "codemirror_mode": {
    "name": "ipython",
    "version": 3
   },
   "file_extension": ".py",
   "mimetype": "text/x-python",
   "name": "python",
   "nbconvert_exporter": "python",
   "pygments_lexer": "ipython3",
   "version": "3.9.18"
  }
 },
 "nbformat": 4,
 "nbformat_minor": 4
}
