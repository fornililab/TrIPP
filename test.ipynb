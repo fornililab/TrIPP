{
 "cells": [
  {
   "cell_type": "code",
   "execution_count": 1,
   "metadata": {},
   "outputs": [],
   "source": [
    "import MDAnalysis as mda\n",
    "from tripp import Trajectory\n",
    "import numpy as np\n",
    "import pandas as pds\n",
    "import warnings\n",
    "warnings.filterwarnings(\"ignore\")"
   ]
  },
  {
   "cell_type": "code",
   "execution_count": 2,
   "metadata": {},
   "outputs": [],
   "source": [
    "test = Trajectory('/Users/kafuman/Ivan/TrIPP/TrIPP/tutorial/files/1AKI_minstr.pdb',\n",
    "                  '/Users/kafuman/Ivan/TrIPP/TrIPP/tutorial/files/1AKI_md2_300ns.xtc',\n",
    "                  output_directory='testing',\n",
    "                  output_prefix='test',\n",
    "                  custom_terminal_oxygens=['OC1','OC2'])"
   ]
  },
  {
   "cell_type": "code",
   "execution_count": 6,
   "metadata": {},
   "outputs": [],
   "source": [
    "df = pd.read_csv('testing/test_pka.csv',index_col='Time [ps]')\n",
    "df['Trajectories'] = 'Unamed trajectory'\n"
   ]
  },
  {
   "cell_type": "code",
   "execution_count": 33,
   "metadata": {},
   "outputs": [],
   "source": [
    "def make_pka_or_buriedness_df(file,trajectory_file):\n",
    "    if isinstance(file, str):\n",
    "        df = pd.read_csv(file, index_col='Time [ps]')\n",
    "        df['Trajectories'] = 'Unnamed trajectory'\n",
    "\n",
    "    elif isinstance(file, list):\n",
    "        df_list = []\n",
    "        for index, f in enumerate(file):\n",
    "            df = pd.read_csv(f, index_col='Time [ps]')\n",
    "            df['Trajectories'] = list(trajectory_file.keys())[index]\n",
    "            df_list.append(df)\n",
    "        df = pd.concat(df_list)\n",
    "\n",
    "    elif file is None:\n",
    "        df = None\n",
    "\n",
    "    return df\n",
    "trajectory_file = {'MD1':'tutorial/files/1AKI_md1_300ns.xtc',\n",
    "                   'MD2':'tutorial/files/1AKI_md2_300ns.xtc'}\n",
    "pka_df = make_pka_or_buriedness_df(['tutorial/output/1AKI_md1/1AKI_md1_pka.csv','tutorial/output/1AKI_md2/1AKI_md2_pka.csv'],trajectory_file)\n",
    "buriedness_df = make_pka_or_buriedness_df(['tutorial/output/1AKI_md1/1AKI_md1_buriedness.csv','tutorial/output/1AKI_md2/1AKI_md2_buriedness.csv'],trajectory_file)"
   ]
  },
  {
   "cell_type": "code",
   "execution_count": 40,
   "metadata": {},
   "outputs": [],
   "source": [
    "from tripp._create_clustering_matrix_ import *"
   ]
  },
  {
   "cell_type": "code",
   "execution_count": 82,
   "metadata": {},
   "outputs": [],
   "source": [
    "from tripp._create_mda_universe_ import create_mda_universe\n",
    "\n",
    "topology_file = 'tutorial/files/1AKI_minstr.pdb'\n",
    "include_buriedness = False\n",
    "residues = [35,52,114]\n",
    "include_distances = False\n",
    "\n",
    "trajectory_dict = {}\n",
    "for key in trajectory_file.keys():\n",
    "    traj = trajectory_file[key]\n",
    "    trajectory_dict[key] = create_mda_universe(\n",
    "        topology_file=topology_file, trajectory_file=traj\n",
    "    )\n",
    "\n",
    "for index, key in enumerate(trajectory_dict.keys()):\n",
    "    df_traj_pka = pka_df[pka_df[\"Trajectories\"] == key]\n",
    "    if include_buriedness:\n",
    "        df_traj_buriedness = buriedness_df[buriedness_df[\"Trajectories\"] == key]\n",
    "    elif not include_buriedness:\n",
    "        df_traj_buriedness = None\n",
    "    if index == 0:\n",
    "        clustering_matrix, times, frames, trajectory_names = (\n",
    "            extract_pka_distances_buriedness(key, trajectory_dict[key], df_traj_pka, df_traj_buriedness,residues, include_distances, include_buriedness)\n",
    "        )\n",
    "\n",
    "    else:\n",
    "        partial_clustering_matrix, partial_times, partial_frames, partial_trajectory_names = extract_pka_distances_buriedness(key, trajectory_dict[key], \n",
    "                                                                                                                                df_traj_pka, \n",
    "                                                                                                                                df_traj_buriedness,\n",
    "                                                                                                                                residues, \n",
    "                                                                                                                                include_distances, \n",
    "                                                                                                                                include_buriedness)\n",
    "        clustering_matrix = np.concatenate((clustering_matrix, partial_clustering_matrix), axis=0)\n",
    "        times = np.concatenate((times, partial_times), axis=0)\n",
    "        frames = np.concatenate((frames, partial_frames), axis=0)\n",
    "        trajectory_names = np.concatenate((trajectory_names, partial_trajectory_names), axis=0)"
   ]
  },
  {
   "cell_type": "code",
   "execution_count": 159,
   "metadata": {},
   "outputs": [
    {
     "data": {
      "text/plain": [
       "array(['C', 'OC1', 'OC2'], dtype=object)"
      ]
     },
     "execution_count": 159,
     "metadata": {},
     "output_type": "execute_result"
    }
   ],
   "source": [
    "test.universe.select_atoms('((around 2 (resid 129 and backbone and type C and not name CA)) and resid 129) and type O or (resid 129 and backbone and type C and not name CA)').atoms.names"
   ]
  },
  {
   "cell_type": "code",
   "execution_count": 63,
   "metadata": {},
   "outputs": [
    {
     "data": {
      "text/plain": [
       "(6172, 9)"
      ]
     },
     "execution_count": 63,
     "metadata": {},
     "output_type": "execute_result"
    }
   ],
   "source": [
    "clustering_matrix.shape"
   ]
  },
  {
   "cell_type": "code",
   "execution_count": 65,
   "metadata": {},
   "outputs": [],
   "source": [
    "u = mda.Universe(topology_file,trajectory_file['MD1'])"
   ]
  },
  {
   "cell_type": "code",
   "execution_count": 69,
   "metadata": {},
   "outputs": [
    {
     "data": {
      "text/plain": [
       "35"
      ]
     },
     "execution_count": 69,
     "metadata": {},
     "output_type": "execute_result"
    }
   ],
   "source": [
    "u.select_atoms('resid 35').residues.resnames[0] + u.select_atoms('resid 35').residues.resids[0]"
   ]
  },
  {
   "cell_type": "code",
   "execution_count": 83,
   "metadata": {},
   "outputs": [],
   "source": [
    "from sklearn_extra.cluster import KMedoids\n"
   ]
  },
  {
   "cell_type": "code",
   "execution_count": 84,
   "metadata": {},
   "outputs": [
    {
     "data": {
      "text/plain": [
       "array([[-0.37320718, -1.00642808,  1.24783831],\n",
       "       [-0.38333872, -0.91271139,  1.24783831],\n",
       "       [-0.4010689 , -0.97856636,  1.24023966],\n",
       "       ...,\n",
       "       [-0.51553341, -0.57628602,  1.29945071],\n",
       "       [-0.63703862, -0.65728949,  1.27919984],\n",
       "       [-0.88004905, -0.77879471,  1.51714755]])"
      ]
     },
     "execution_count": 84,
     "metadata": {},
     "output_type": "execute_result"
    }
   ],
   "source": [
    "clustering_matrix"
   ]
  },
  {
   "cell_type": "code",
   "execution_count": 85,
   "metadata": {},
   "outputs": [],
   "source": [
    "clust = KMedoids(n_clusters=2,init='k-medoids++').fit(X=clustering_matrix)"
   ]
  },
  {
   "cell_type": "code",
   "execution_count": 79,
   "metadata": {},
   "outputs": [
    {
     "data": {
      "text/plain": [
       "array([1, 1, 1, ..., 0, 0, 0])"
      ]
     },
     "execution_count": 79,
     "metadata": {},
     "output_type": "execute_result"
    }
   ],
   "source": [
    "clust.predict(clustering_matrix)"
   ]
  }
 ],
 "metadata": {
  "kernelspec": {
   "display_name": ".venv",
   "language": "python",
   "name": "python3"
  },
  "language_info": {
   "codemirror_mode": {
    "name": "ipython",
    "version": 3
   },
   "file_extension": ".py",
   "mimetype": "text/x-python",
   "name": "python",
   "nbconvert_exporter": "python",
   "pygments_lexer": "ipython3",
   "version": "3.9.20"
  }
 },
 "nbformat": 4,
 "nbformat_minor": 2
}
