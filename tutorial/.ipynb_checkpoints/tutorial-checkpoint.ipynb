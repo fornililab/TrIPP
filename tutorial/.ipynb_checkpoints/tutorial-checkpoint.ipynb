{
 "cells": [
  {
   "cell_type": "code",
   "execution_count": 1,
   "metadata": {},
   "outputs": [
    {
     "ename": "ModuleNotFoundError",
     "evalue": "No module named 'edit_pdb'",
     "output_type": "error",
     "traceback": [
      "\u001b[0;31m---------------------------------------------------------------------------\u001b[0m",
      "\u001b[0;31mModuleNotFoundError\u001b[0m                       Traceback (most recent call last)",
      "Cell \u001b[0;32mIn [1], line 1\u001b[0m\n\u001b[0;32m----> 1\u001b[0m \u001b[38;5;28;01mfrom\u001b[39;00m \u001b[38;5;21;01mtripp\u001b[39;00m \u001b[38;5;28;01mimport\u001b[39;00m Trajectory\n\u001b[1;32m      2\u001b[0m \u001b[38;5;28;01mimport\u001b[39;00m \u001b[38;5;21;01mmatplotlib\u001b[39;00m\u001b[38;5;21;01m.\u001b[39;00m\u001b[38;5;21;01mpyplot\u001b[39;00m \u001b[38;5;28;01mas\u001b[39;00m \u001b[38;5;21;01mplt\u001b[39;00m\n\u001b[1;32m      3\u001b[0m \u001b[38;5;28;01mimport\u001b[39;00m \u001b[38;5;21;01mpandas\u001b[39;00m \u001b[38;5;28;01mas\u001b[39;00m \u001b[38;5;21;01mpd\u001b[39;00m\n",
      "File \u001b[0;32m~/Library/Python/3.9/lib/python/site-packages/tripp/Trajectory.py:29\u001b[0m\n\u001b[1;32m     27\u001b[0m \u001b[38;5;28;01mimport\u001b[39;00m \u001b[38;5;21;01mos\u001b[39;00m \n\u001b[1;32m     28\u001b[0m \u001b[38;5;28;01mimport\u001b[39;00m \u001b[38;5;21;01mmultiprocessing\u001b[39;00m \u001b[38;5;28;01mas\u001b[39;00m \u001b[38;5;21;01mmp\u001b[39;00m \n\u001b[0;32m---> 29\u001b[0m \u001b[38;5;28;01mfrom\u001b[39;00m \u001b[38;5;21;01medit_pdb\u001b[39;00m \u001b[38;5;28;01mimport\u001b[39;00m edit_pdb \n\u001b[1;32m     30\u001b[0m \u001b[38;5;28;01mfrom\u001b[39;00m \u001b[38;5;21;01medit_pdb\u001b[39;00m \u001b[38;5;28;01mimport\u001b[39;00m mutate \n\u001b[1;32m     31\u001b[0m \u001b[38;5;28;01mimport\u001b[39;00m \u001b[38;5;21;01mpandas\u001b[39;00m \u001b[38;5;28;01mas\u001b[39;00m \u001b[38;5;21;01mpd\u001b[39;00m \n",
      "\u001b[0;31mModuleNotFoundError\u001b[0m: No module named 'edit_pdb'"
     ]
    }
   ],
   "source": [
    "from tripp import Trajectory\n",
    "import matplotlib.pyplot as plt\n",
    "import pandas as pd"
   ]
  },
  {
   "cell_type": "code",
   "execution_count": null,
   "metadata": {},
   "outputs": [],
   "source": [
    "pdb = './files/1AKI_clean_min_cg_pbc_p.pdb'\n",
    "traj = './files/1AKI_clean_eq_md2_T300_300ns_p_fit_skip100.xtc'"
   ]
  },
  {
   "cell_type": "markdown",
   "metadata": {},
   "source": [
    "# Extracting both the pKa and buridness data"
   ]
  },
  {
   "cell_type": "code",
   "execution_count": null,
   "metadata": {},
   "outputs": [],
   "source": [
    "tripp = Trajectory.Trajectory(trajectory_file=traj,\n",
    "                              topology_file = pdb,\n",
    "                              cpu_core_number=30)\n",
    "tripp.run(output_file='1AKI_clean_md2',\n",
    "          extract_surface_data=True, #If this is set to False, only pKa data will be extracted, else both pKa and buridness data will be extracted\n",
    "          chain='A',\n",
    "          mutation=None)"
   ]
  },
  {
   "cell_type": "markdown",
   "metadata": {},
   "source": [
    "After running TriPP on the trajectory, the time evolution of the pKa and buridness of individual residues are saved as *_pka.csv, and *_surf.csv. The pKa of individual residues can be plotted with a boxplot."
   ]
  },
  {
   "cell_type": "code",
   "execution_count": null,
   "metadata": {},
   "outputs": [],
   "source": [
    "df = pd.read_csv('./1AKI_clean_md2_pka.csv')\n",
    "CYS = []\n",
    "for residue in df.columns[1:]:\n",
    "    if 'CYS' in residue:\n",
    "        CYS.append(residue)\n",
    "fig,ax=plt.subplots(figsize=(10,4))\n",
    "df_noCYS = df.loc[:, ~df.columns.isin(['Time [ps]','CYS6', 'CYS30', 'CYS64', 'CYS76', 'CYS80', 'CYS94', 'CYS115', 'CYS127'])]\n",
    "df_noCYS.boxplot(ax=ax,grid=False,rot=90)\n",
    "ax.set_ylabel('Predicted pKa')\n",
    "plt.show()"
   ]
  },
  {
   "cell_type": "markdown",
   "metadata": {},
   "source": [
    "Notice that both ASP52 and GLU35 had a higher pKa value than its normal pKa at pH 7.4. Visual inspection of the trajectory shows that ASN44 and ARG114 seem to be the main contriubution leading to the increase of their pKa, respectively. To confirm their contributions, a pseudomutation of the exisiting trajectory can be performed individually."
   ]
  },
  {
   "cell_type": "code",
   "execution_count": null,
   "metadata": {},
   "outputs": [],
   "source": [
    "tripp = Trajectory.Trajectory(trajectory_file=traj,\n",
    "                              topology_file = pdb,\n",
    "                              cpu_core_number=30)\n",
    "#Pseudomutate ASN44 to confirm its contribution on ASP52\n",
    "tripp.run(output_file='1AKI_clean_md2',\n",
    "          extract_surface_data=True, #If this is set to False, only pKa data will be extracted, else both pKa and buridness data will be extracted\n",
    "          chain='A',\n",
    "          mutation=44)\n",
    "#Pseudomutate ARG114 to confirm its contribution on GLU35\n",
    "tripp.run(output_file='1AKI_clean_md2',\n",
    "          extract_surface_data=True, #If this is set to False, only pKa data will be extracted, else both pKa and buridness data will be extracted\n",
    "          chain='A',\n",
    "          mutation=114)"
   ]
  }
 ],
 "metadata": {
  "kernelspec": {
   "display_name": "Python 3 (ipykernel)",
   "language": "python",
   "name": "python3"
  },
  "language_info": {
   "codemirror_mode": {
    "name": "ipython",
    "version": 3
   },
   "file_extension": ".py",
   "mimetype": "text/x-python",
   "name": "python",
   "nbconvert_exporter": "python",
   "pygments_lexer": "ipython3",
   "version": "3.9.6"
  }
 },
 "nbformat": 4,
 "nbformat_minor": 2
}
